{
  "nbformat": 4,
  "nbformat_minor": 0,
  "metadata": {
    "colab": {
      "provenance": [],
      "collapsed_sections": [
        "-8yGino3-nvR",
        "ZwT2P1Wp-4Qg",
        "qQNBe3B5-8ag",
        "65iu4Rfb-_nI",
        "5mOR3Yn0_qpZ"
      ],
      "authorship_tag": "ABX9TyN7HqEs/MCsSNPa7jSUVAIy",
      "include_colab_link": true
    },
    "kernelspec": {
      "name": "python3",
      "display_name": "Python 3"
    },
    "language_info": {
      "name": "python"
    }
  },
  "cells": [
    {
      "cell_type": "markdown",
      "metadata": {
        "id": "view-in-github",
        "colab_type": "text"
      },
      "source": [
        "<a href=\"https://colab.research.google.com/github/8zali9/DeepLearning-PyTorch/blob/main/courseNotebooks/PyTorch_workflow.ipynb\" target=\"_parent\"><img src=\"https://colab.research.google.com/assets/colab-badge.svg\" alt=\"Open In Colab\"/></a>"
      ]
    },
    {
      "cell_type": "markdown",
      "source": [
        "### **ML Model**\n",
        "*What we are doing?*\n",
        "1. (a) we set random values of weight (how much the connection of input layers to a single neuron influences) and bias.\n",
        "2. (b) we then create a sample dataset of random values and then applied a linear regression formula.\n",
        "3. (c) we then split the data into training and testing sets in the ratio of 8:2.\n",
        "4. (d) we then create a function to plot the sample data to visualize\n",
        "5. (e) we then create a LinearRegressionModel (explained there in detail)"
      ],
      "metadata": {
        "id": "CmHOJPZK8eC5"
      }
    },
    {
      "cell_type": "markdown",
      "source": [
        "### (a).\n",
        "\n",
        "we set random values of weight (how much the connection of input layers to a single neuron influences) and bias."
      ],
      "metadata": {
        "id": "-8yGino3-nvR"
      }
    },
    {
      "cell_type": "code",
      "execution_count": 1,
      "metadata": {
        "colab": {
          "base_uri": "https://localhost:8080/",
          "height": 36
        },
        "id": "Z624nWoZjwVx",
        "outputId": "017da371-1ad4-4aa7-dd0a-a6b052933d8b"
      },
      "outputs": [
        {
          "output_type": "execute_result",
          "data": {
            "text/plain": [
              "'2.2.1+cu121'"
            ],
            "application/vnd.google.colaboratory.intrinsic+json": {
              "type": "string"
            }
          },
          "metadata": {},
          "execution_count": 1
        }
      ],
      "source": [
        "import torch\n",
        "from torch import nn\n",
        "import matplotlib.pyplot as plt\n",
        "\n",
        "torch.__version__"
      ]
    },
    {
      "cell_type": "markdown",
      "source": [
        "### (b)\n",
        "\n",
        "we then create a sample dataset of random values and then applied a linear regression formula."
      ],
      "metadata": {
        "id": "ZwT2P1Wp-4Qg"
      }
    },
    {
      "cell_type": "code",
      "source": [
        "# (a)\n",
        "weight = 0.7\n",
        "bias = 0.3\n",
        "\n",
        "start = 0\n",
        "end = 1\n",
        "step = 0.02\n",
        "\n",
        "X = torch.arange(start, end, step).unsqueeze(dim = 1)\n",
        "y = weight * X + bias"
      ],
      "metadata": {
        "id": "xTOlbho4DmWr"
      },
      "execution_count": 2,
      "outputs": []
    },
    {
      "cell_type": "code",
      "source": [
        "print(f\"X tensor:\\n{X[:10]}\\nwith the length: {len(X)}\\n\")\n",
        "print(f\"y vector:\\n{y[:10]}\\nwith the length: {len(y)}\")"
      ],
      "metadata": {
        "colab": {
          "base_uri": "https://localhost:8080/"
        },
        "id": "KF9RVnvqGAKD",
        "outputId": "e4758759-d8d5-4811-ee43-b4bac6c76f06"
      },
      "execution_count": 3,
      "outputs": [
        {
          "output_type": "stream",
          "name": "stdout",
          "text": [
            "X tensor:\n",
            "tensor([[0.0000],\n",
            "        [0.0200],\n",
            "        [0.0400],\n",
            "        [0.0600],\n",
            "        [0.0800],\n",
            "        [0.1000],\n",
            "        [0.1200],\n",
            "        [0.1400],\n",
            "        [0.1600],\n",
            "        [0.1800]])\n",
            "with the length: 50\n",
            "\n",
            "y vector:\n",
            "tensor([[0.3000],\n",
            "        [0.3140],\n",
            "        [0.3280],\n",
            "        [0.3420],\n",
            "        [0.3560],\n",
            "        [0.3700],\n",
            "        [0.3840],\n",
            "        [0.3980],\n",
            "        [0.4120],\n",
            "        [0.4260]])\n",
            "with the length: 50\n"
          ]
        }
      ]
    },
    {
      "cell_type": "markdown",
      "source": [
        "### (c)\n",
        "\n",
        "we then split the data into training and testing sets in the ratio of 8:2."
      ],
      "metadata": {
        "id": "qQNBe3B5-8ag"
      }
    },
    {
      "cell_type": "code",
      "source": [
        "train_split = int(0.8 * len(X))\n",
        "train_X, train_y = X[:train_split], y[:train_split]\n",
        "test_X, test_y = X[train_split:], y[train_split:]\n"
      ],
      "metadata": {
        "id": "xXL0zESpIsUa"
      },
      "execution_count": 4,
      "outputs": []
    },
    {
      "cell_type": "markdown",
      "source": [
        "plotting a scatter plot through matplotlib"
      ],
      "metadata": {
        "id": "Jge9tdS2Nu4V"
      }
    },
    {
      "cell_type": "markdown",
      "source": [
        "### (d)\n",
        "\n",
        "we then create a function to plot the sample data to visualize"
      ],
      "metadata": {
        "id": "65iu4Rfb-_nI"
      }
    },
    {
      "cell_type": "code",
      "source": [
        "def plot_scatter (\n",
        "    train_data = train_X,\n",
        "    train_labels = train_y,\n",
        "    test_data = test_X,\n",
        "    test_labels = test_y,\n",
        "    predictions = None\n",
        "    ) :\n",
        "      plt.figure(figsize=(10, 7))\n",
        "\n",
        "      plt.scatter(train_data, train_labels, c=\"b\", s=5, label = \"Training data\")\n",
        "      plt.scatter(test_data, test_labels, c=\"g\", s=5, label = \"Test data\")\n",
        "\n",
        "      if predictions is not None:\n",
        "        plt.scatter(test_data, predictions, c=\"r\", s=5, label = \"Predictions\")\n",
        "\n",
        "      plt.legend(prop={\"size\": 14})"
      ],
      "metadata": {
        "id": "VNATHLTQN6tQ"
      },
      "execution_count": 5,
      "outputs": []
    },
    {
      "cell_type": "code",
      "source": [
        "plot_scatter()"
      ],
      "metadata": {
        "colab": {
          "base_uri": "https://localhost:8080/",
          "height": 599
        },
        "id": "uS9YqzTTN4u5",
        "outputId": "7f6394f0-9ac2-460d-c531-81415fd64a80"
      },
      "execution_count": 6,
      "outputs": [
        {
          "output_type": "display_data",
          "data": {
            "text/plain": [
              "<Figure size 1000x700 with 1 Axes>"
            ],
            "image/png": "[encoded data removed]"
          },
          "metadata": {}
        }
      ]
    },
    {
      "cell_type": "markdown",
      "source": [
        "### (e)\n",
        "\n",
        "we then create a LinearRegressionModel (explained there in detail)"
      ],
      "metadata": {
        "id": "Rde5cTqp_C3B"
      }
    },
    {
      "cell_type": "markdown",
      "source": [
        "*Details:*\n",
        "\n",
        "`LinearRegressionModel` class  inherits `nn.Module` class\n",
        "\n",
        "`def __init__(self)` : is a constructor\n",
        "\n",
        "`super().__init__()` : calls the constructor of the parent class `nn.Module`. It ensures that the parent's class's methods are initialized first, before the child class initializes. If we hadn't done this, we were assuming that the methods are accessible from the parent class, although they are not even initialized.\n",
        "\n",
        "The `self.weights` and the `self.bias` are initialized with random numbers. Afterwards, we have adjusted these values to represent or replicate those values which were set in step (a). This is done by a **gradient descent** approach (we find how can we make the cost function spit a lower and lower value; essentially saying finding the minima of the function).\n",
        "\n",
        "```\n",
        "def forward (self, x: torch.Tensor) -> torch.Tensor:\n",
        "    return self.weights * x + self.bias\n",
        "```\n",
        "Above code which has the forward function is a must for every class that inherits nn.Module class. This is because this class which inherits, acts as a hidden layer in the neural network, so it takes some input, and *forwards* it onto the next layer.\n"
      ],
      "metadata": {
        "id": "5mOR3Yn0_qpZ"
      }
    },
    {
      "cell_type": "code",
      "source": [
        "class LinearRegressionModel (nn.Module):\n",
        "  def __init__(self):\n",
        "    super().__init__()\n",
        "\n",
        "    self.weights = nn.Parameter(\n",
        "        torch.randn(\n",
        "            1,\n",
        "            requires_grad= True,\n",
        "            dtype= torch.float\n",
        "        )\n",
        "      )\n",
        "\n",
        "    self.bias = nn.Parameter(\n",
        "        torch.randn(\n",
        "            1,\n",
        "            requires_grad=True,\n",
        "            dtype = torch.float\n",
        "        )\n",
        "    )\n",
        "\n",
        "  def forward (self, x: torch.Tensor) -> torch.Tensor:\n",
        "    return self.weights * x + self.bias"
      ],
      "metadata": {
        "id": "Un5q_F5LgOUp"
      },
      "execution_count": 7,
      "outputs": []
    }
  ]
}