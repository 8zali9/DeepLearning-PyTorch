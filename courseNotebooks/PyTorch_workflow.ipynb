{
  "nbformat": 4,
  "nbformat_minor": 0,
  "metadata": {
    "colab": {
      "provenance": [],
      "collapsed_sections": [
        "YjzpDaxTxNE_"
      ],
      "authorship_tag": "ABX9TyOzNbrapWM9uSzKIOsHpl5R",
      "include_colab_link": true
    },
    "kernelspec": {
      "name": "python3",
      "display_name": "Python 3"
    },
    "language_info": {
      "name": "python"
    }
  },
  "cells": [
    {
      "cell_type": "markdown",
      "metadata": {
        "id": "view-in-github",
        "colab_type": "text"
      },
      "source": [
        "<a href=\"https://colab.research.google.com/github/8zali9/DeepLearning-PyTorch/blob/main/courseNotebooks/PyTorch_workflow.ipynb\" target=\"_parent\"><img src=\"https://colab.research.google.com/assets/colab-badge.svg\" alt=\"Open In Colab\"/></a>"
      ]
    },
    {
      "cell_type": "markdown",
      "source": [
        "### **ML Model**\n",
        "*What we are doing?*\n",
        "1. (a) we set random values of weight (how much the connection of input layers to a single neuron influences) and bias.\n",
        "2. (b) we then create a sample dataset of random values and then applied a linear regression formula.\n",
        "3. (c) we then split the data into training and testing sets in the ratio of 8:2.\n",
        "4. (d) we then create a function to plot the sample data to visualize\n",
        "5. (e) we then create a LinearRegressionModel (explained there in detail)\n",
        "6. (f) initializing the model"
      ],
      "metadata": {
        "id": "CmHOJPZK8eC5"
      }
    },
    {
      "cell_type": "markdown",
      "source": [
        "### (a).\n",
        "\n",
        "we set random values of weight (how much the connection of input layers to a single neuron influences) and bias."
      ],
      "metadata": {
        "id": "-8yGino3-nvR"
      }
    },
    {
      "cell_type": "code",
      "execution_count": 37,
      "metadata": {
        "colab": {
          "base_uri": "https://localhost:8080/",
          "height": 36
        },
        "id": "Z624nWoZjwVx",
        "outputId": "dd0e7261-9464-42f3-c1af-c2b673332918"
      },
      "outputs": [
        {
          "output_type": "execute_result",
          "data": {
            "text/plain": [
              "'2.2.1+cu121'"
            ],
            "application/vnd.google.colaboratory.intrinsic+json": {
              "type": "string"
            }
          },
          "metadata": {},
          "execution_count": 37
        }
      ],
      "source": [
        "import torch\n",
        "from torch import nn\n",
        "import matplotlib.pyplot as plt\n",
        "\n",
        "torch.__version__"
      ]
    },
    {
      "cell_type": "markdown",
      "source": [
        "### (b)\n",
        "\n",
        "we then create a sample dataset of random values and then applied a linear regression formula."
      ],
      "metadata": {
        "id": "ZwT2P1Wp-4Qg"
      }
    },
    {
      "cell_type": "code",
      "source": [
        "# (a)\n",
        "weight = 0.7\n",
        "bias = 0.3\n",
        "\n",
        "start = 0\n",
        "end = 1\n",
        "step = 0.02\n",
        "\n",
        "X = torch.arange(start, end, step).unsqueeze(dim = 1)\n",
        "y = weight * X + bias"
      ],
      "metadata": {
        "id": "xTOlbho4DmWr"
      },
      "execution_count": 38,
      "outputs": []
    },
    {
      "cell_type": "code",
      "source": [
        "print(f\"X tensor:\\n{X[:10]}\\nwith the length: {len(X)}\\n\")\n",
        "print(f\"y vector:\\n{y[:10]}\\nwith the length: {len(y)}\")"
      ],
      "metadata": {
        "colab": {
          "base_uri": "https://localhost:8080/"
        },
        "id": "KF9RVnvqGAKD",
        "outputId": "4796f29a-40f7-4dfe-a0aa-b45838120ff5"
      },
      "execution_count": 39,
      "outputs": [
        {
          "output_type": "stream",
          "name": "stdout",
          "text": [
            "X tensor:\n",
            "tensor([[0.0000],\n",
            "        [0.0200],\n",
            "        [0.0400],\n",
            "        [0.0600],\n",
            "        [0.0800],\n",
            "        [0.1000],\n",
            "        [0.1200],\n",
            "        [0.1400],\n",
            "        [0.1600],\n",
            "        [0.1800]])\n",
            "with the length: 50\n",
            "\n",
            "y vector:\n",
            "tensor([[0.3000],\n",
            "        [0.3140],\n",
            "        [0.3280],\n",
            "        [0.3420],\n",
            "        [0.3560],\n",
            "        [0.3700],\n",
            "        [0.3840],\n",
            "        [0.3980],\n",
            "        [0.4120],\n",
            "        [0.4260]])\n",
            "with the length: 50\n"
          ]
        }
      ]
    },
    {
      "cell_type": "markdown",
      "source": [
        "### (c)\n",
        "\n",
        "we then split the data into training and testing sets in the ratio of 8:2."
      ],
      "metadata": {
        "id": "qQNBe3B5-8ag"
      }
    },
    {
      "cell_type": "code",
      "source": [
        "train_split = int(0.8 * len(X))\n",
        "train_X, train_y = X[:train_split], y[:train_split]\n",
        "test_X, test_y = X[train_split:], y[train_split:]\n"
      ],
      "metadata": {
        "id": "xXL0zESpIsUa"
      },
      "execution_count": 40,
      "outputs": []
    },
    {
      "cell_type": "markdown",
      "source": [
        "plotting a scatter plot through matplotlib"
      ],
      "metadata": {
        "id": "Jge9tdS2Nu4V"
      }
    },
    {
      "cell_type": "markdown",
      "source": [
        "### (d)\n",
        "\n",
        "we then create a function to plot the sample data to visualize"
      ],
      "metadata": {
        "id": "65iu4Rfb-_nI"
      }
    },
    {
      "cell_type": "code",
      "source": [
        "def plot_scatter (\n",
        "    train_data = train_X,\n",
        "    train_labels = train_y,\n",
        "    test_data = test_X,\n",
        "    test_labels = test_y,\n",
        "    predictions = None\n",
        "    ) :\n",
        "      plt.figure(figsize=(10, 7))\n",
        "\n",
        "      plt.scatter(train_data, train_labels, c=\"b\", s=5, label = \"Training data\")\n",
        "      plt.scatter(test_data, test_labels, c=\"g\", s=5, label = \"Test data\")\n",
        "\n",
        "      if predictions is not None:\n",
        "        plt.scatter(test_data, predictions, c=\"r\", s=5, label = \"Predictions\")\n",
        "\n",
        "      plt.legend(prop={\"size\": 14})"
      ],
      "metadata": {
        "id": "VNATHLTQN6tQ"
      },
      "execution_count": 41,
      "outputs": []
    },
    {
      "cell_type": "code",
      "source": [
        "plot_scatter()"
      ],
      "metadata": {
        "colab": {
          "base_uri": "https://localhost:8080/",
          "height": 599
        },
        "id": "uS9YqzTTN4u5",
        "outputId": "c7651c92-6c8f-4c68-8c8a-29978fe27d90"
      },
      "execution_count": 42,
      "outputs": [
        {
          "output_type": "display_data",
          "data": {
            "text/plain": [
              "<Figure size 1000x700 with 1 Axes>"
            ],
            "image/png": "[encoded data removed]"
          },
          "metadata": {}
        }
      ]
    },
    {
      "cell_type": "markdown",
      "source": [
        "### (e)\n",
        "\n",
        "we then create a LinearRegressionModel (explained there in detail)"
      ],
      "metadata": {
        "id": "Rde5cTqp_C3B"
      }
    },
    {
      "cell_type": "markdown",
      "source": [
        "*Details:*\n",
        "\n",
        "`LinearRegressionModel` class  inherits `nn.Module` class\n",
        "\n",
        "`def __init__(self)` : is a constructor\n",
        "\n",
        "`super().__init__()` : calls the constructor of the parent class `nn.Module`. It ensures that the parent's class's methods are initialized first, before the child class initializes. If we hadn't done this, we were assuming that the methods are accessible from the parent class, although they are not even initialized.\n",
        "\n",
        "The `self.weights` and the `self.bias` are initialized with random numbers. Afterwards, we have adjusted these values to represent or replicate those values which were set in step (a). This is done by a **gradient descent** approach (we find how can we make the cost function spit a lower and lower value; essentially saying finding the minima of the function).\n",
        "\n",
        "```\n",
        "def forward (self, x: torch.Tensor) -> torch.Tensor:\n",
        "    return self.weights * x + self.bias\n",
        "```\n",
        "Above code which has the forward function is a must for every class that inherits nn.Module class. This is because this class which inherits, acts as a hidden layer in the neural network, so it takes some input, and *forwards* it onto the next layer.\n"
      ],
      "metadata": {
        "id": "5mOR3Yn0_qpZ"
      }
    },
    {
      "cell_type": "code",
      "source": [
        "class LinearRegressionModel (nn.Module):\n",
        "  def __init__(self):\n",
        "    super().__init__()\n",
        "\n",
        "    self.weights = nn.Parameter(\n",
        "        torch.randn(\n",
        "            1,\n",
        "            requires_grad= True,\n",
        "            dtype= torch.float\n",
        "        )\n",
        "      )\n",
        "\n",
        "    self.bias = nn.Parameter(\n",
        "        torch.randn(\n",
        "            1,\n",
        "            requires_grad=True,\n",
        "            dtype = torch.float\n",
        "        )\n",
        "    )\n",
        "\n",
        "  def forward (self, x: torch.Tensor) -> torch.Tensor:\n",
        "    return self.weights * x + self.bias"
      ],
      "metadata": {
        "id": "Un5q_F5LgOUp"
      },
      "execution_count": 73,
      "outputs": []
    },
    {
      "cell_type": "markdown",
      "source": [
        "### (f)\n",
        "\n",
        "initializing the model"
      ],
      "metadata": {
        "id": "0aWD-D8Drn0t"
      }
    },
    {
      "cell_type": "code",
      "source": [
        "torch.manual_seed(42)\n",
        "\n",
        "model_0 = LinearRegressionModel()\n",
        "\n",
        "list(model_0.parameters()) # shows the parameters present in the class\n",
        "model_0.state_dict()"
      ],
      "metadata": {
        "colab": {
          "base_uri": "https://localhost:8080/"
        },
        "id": "3I8OdVaSrqH3",
        "outputId": "e4b21970-375d-4461-9f12-abec9d88fec4"
      },
      "execution_count": 74,
      "outputs": [
        {
          "output_type": "execute_result",
          "data": {
            "text/plain": [
              "OrderedDict([('weights', tensor([0.3367])), ('bias', tensor([0.1288]))])"
            ]
          },
          "metadata": {},
          "execution_count": 74
        }
      ]
    },
    {
      "cell_type": "code",
      "source": [
        "with torch.inference_mode(): # .inference_mode() is a context manager, which will evaluate the model without tracking the gradients, that reduces memory usage & improves computation\n",
        "  y_preds = model_0(test_X)\n",
        "  y_preds\n",
        "\n",
        "plot_scatter(predictions=y_preds)"
      ],
      "metadata": {
        "colab": {
          "base_uri": "https://localhost:8080/",
          "height": 599
        },
        "id": "URdn5xPntD74",
        "outputId": "87ec65a6-bc79-4422-ddb8-2b083b27fce2"
      },
      "execution_count": 75,
      "outputs": [
        {
          "output_type": "display_data",
          "data": {
            "text/plain": [
              "<Figure size 1000x700 with 1 Axes>"
            ],
            "image/png": "[encoded data removed]"
          },
          "metadata": {}
        }
      ]
    },
    {
      "cell_type": "markdown",
      "source": [
        "### (g)\n",
        "\n",
        "Training the Model\n",
        "\n",
        "setting the loss function and optimizer\n",
        "\n",
        "Terms to remember ->\n",
        "* loss function (which calculates for each data point, how much accurately the model predicts)\n",
        "* cost function (does the same as loss function, but calculates for the overall dataset)\n",
        "* optimizer (an algorithm that changes the parameters by taking loss / cost  function into account, i.e. the weights and biases, to make the model predict better)"
      ],
      "metadata": {
        "id": "YjzpDaxTxNE_"
      }
    },
    {
      "cell_type": "code",
      "source": [
        "loss_fn = nn.L1Loss()\n",
        "\n",
        "optimizer = torch.optim.SGD(params = model_0.parameters(), lr = 0.01) # lr is the learning rate"
      ],
      "metadata": {
        "id": "Em8q35LQEfgw"
      },
      "execution_count": 76,
      "outputs": []
    },
    {
      "cell_type": "markdown",
      "source": [
        "### (f)\n",
        "\n",
        "Training loop"
      ],
      "metadata": {
        "id": "Z3jNbZdsE21q"
      }
    },
    {
      "cell_type": "code",
      "source": [
        "epoch_count = []\n",
        "train_loss_vals = []\n",
        "test_loss_vals = []\n",
        "epochs = 100\n",
        "\n",
        "for epoch in range(epochs):\n",
        "  # set the model to training mode\n",
        "  model_0.train()\n",
        "\n",
        "  # forward pass\n",
        "  y_pred = model_0(train_X)\n",
        "\n",
        "  # calculate the loss\n",
        "  loss = loss_fn(y_pred, train_y)\n",
        "\n",
        "  # optimizer zero grad\n",
        "  optimizer.zero_grad()\n",
        "\n",
        "  # backpropagation\n",
        "  loss.backward()\n",
        "\n",
        "  # make the optmizer takes steps to decrease the loss after each pass\n",
        "  optimizer.step()\n",
        "\n",
        "  # testing\n",
        "  model_0.eval()\n",
        "  with torch.inference_mode():\n",
        "    # forward pass\n",
        "    test_preds = model_0(test_X)\n",
        "\n",
        "    # calculate the loss\n",
        "    test_loss = loss_fn(test_preds, test_y)\n",
        "\n",
        "    if epoch % 10 == 0:\n",
        "      print(epoch)\n",
        "      print (loss, test_loss)\n",
        "      epoch_count.append(epoch)\n",
        "      train_loss_vals.append(loss)\n",
        "      test_loss_vals.append(test_loss)\n",
        "\n",
        "print(model_0.state_dict())\n",
        "print(loss)"
      ],
      "metadata": {
        "id": "6p8TaJtGE-qi",
        "colab": {
          "base_uri": "https://localhost:8080/"
        },
        "outputId": "2b9397b6-1532-4caf-aeca-87441b6fd5f1"
      },
      "execution_count": 84,
      "outputs": [
        {
          "output_type": "stream",
          "name": "stdout",
          "text": [
            "0\n",
            "tensor(0.0245, grad_fn=<MeanBackward0>) tensor(0.0565)\n",
            "10\n",
            "tensor(0.0210, grad_fn=<MeanBackward0>) tensor(0.0482)\n",
            "20\n",
            "tensor(0.0176, grad_fn=<MeanBackward0>) tensor(0.0406)\n",
            "30\n",
            "tensor(0.0142, grad_fn=<MeanBackward0>) tensor(0.0323)\n",
            "40\n",
            "tensor(0.0107, grad_fn=<MeanBackward0>) tensor(0.0241)\n",
            "50\n",
            "tensor(0.0073, grad_fn=<MeanBackward0>) tensor(0.0165)\n",
            "60\n",
            "tensor(0.0039, grad_fn=<MeanBackward0>) tensor(0.0082)\n",
            "70\n",
            "tensor(0.0089, grad_fn=<MeanBackward0>) tensor(0.0050)\n",
            "80\n",
            "tensor(0.0089, grad_fn=<MeanBackward0>) tensor(0.0050)\n",
            "90\n",
            "tensor(0.0089, grad_fn=<MeanBackward0>) tensor(0.0050)\n",
            "OrderedDict([('weights', tensor([0.6990])), ('bias', tensor([0.3093]))])\n",
            "tensor(0.0026, grad_fn=<MeanBackward0>)\n"
          ]
        }
      ]
    },
    {
      "cell_type": "code",
      "source": [
        "# plotting loss curves\n",
        "plt.plot(epoch_count, torch.tensor(train_loss_vals).numpy(), label = \"Train Loss\")\n",
        "plt.plot(epoch_count, test_loss_vals, label = \"Test Loss\")\n",
        "plt.title(\"Training and Testing Loss Curve\")\n",
        "plt.ylabel(\"Loss\")\n",
        "plt.xlabel(\"Epochs\")\n",
        "plt.legend()"
      ],
      "metadata": {
        "colab": {
          "base_uri": "https://localhost:8080/",
          "height": 489
        },
        "id": "0YoDBdrluHCu",
        "outputId": "02945297-b665-4520-c0cc-ead48640d557"
      },
      "execution_count": 87,
      "outputs": [
        {
          "output_type": "execute_result",
          "data": {
            "text/plain": [
              "<matplotlib.legend.Legend at 0x797f529b75b0>"
            ]
          },
          "metadata": {},
          "execution_count": 87
        },
        {
          "output_type": "display_data",
          "data": {
            "text/plain": [
              "<Figure size 640x480 with 1 Axes>"
            ],
            "image/png": "[encoded data removed]"
          },
          "metadata": {}
        }
      ]
    },
    {
      "cell_type": "code",
      "source": [
        "with torch.inference_mode():\n",
        "  y_preds_new = model_0(test_X)\n",
        "\n",
        "print(model_0.state_dict())"
      ],
      "metadata": {
        "colab": {
          "base_uri": "https://localhost:8080/"
        },
        "id": "sLoDytwf2G75",
        "outputId": "a4b14766-befb-4c96-96dc-b6b013711ca9"
      },
      "execution_count": 95,
      "outputs": [
        {
          "output_type": "stream",
          "name": "stdout",
          "text": [
            "OrderedDict([('weights', tensor([0.6990])), ('bias', tensor([0.3093]))])\n"
          ]
        }
      ]
    },
    {
      "cell_type": "code",
      "source": [
        "plot_scatter(predictions = y_preds_new)"
      ],
      "metadata": {
        "colab": {
          "base_uri": "https://localhost:8080/",
          "height": 599
        },
        "id": "jMCwQjrn6crU",
        "outputId": "4508881c-045e-4382-b280-e0c09ceeafa4"
      },
      "execution_count": 86,
      "outputs": [
        {
          "output_type": "display_data",
          "data": {
            "text/plain": [
              "<Figure size 1000x700 with 1 Axes>"
            ],
            "image/png": "[encoded data removed]"
          },
          "metadata": {}
        }
      ]
    },
    {
      "cell_type": "markdown",
      "source": [
        "### (h)\n",
        "\n",
        "Saving model"
      ],
      "metadata": {
        "id": "rYhQEr3j15-S"
      }
    },
    {
      "cell_type": "code",
      "source": [
        "from pathlib import Path\n",
        "\n",
        "modelDir = Path('models')\n",
        "modelDir.mkdir(parents=True, exist_ok=True)\n",
        "\n",
        "modelName = \"PyTorch_Workflow_Model_0.pth\"\n",
        "modelPath = modelDir / modelName\n",
        "\n",
        "torch.save(obj=model_0.state_dict(), f=modelPath)"
      ],
      "metadata": {
        "id": "jCc2Pygc19qI"
      },
      "execution_count": 90,
      "outputs": []
    },
    {
      "cell_type": "markdown",
      "source": [
        "### (i)\n",
        "\n",
        "Loading model"
      ],
      "metadata": {
        "id": "iD9Udq3Q-Ep6"
      }
    },
    {
      "cell_type": "code",
      "source": [
        "loadedModel_0 = LinearRegressionModel()\n",
        "\n",
        "loadedModel_0.load_state_dict(torch.load(f=modelPath))"
      ],
      "metadata": {
        "colab": {
          "base_uri": "https://localhost:8080/"
        },
        "id": "KUS7LBVh-I2N",
        "outputId": "2b5b4acd-9ae9-42fc-a2c8-30c44c9cafd6"
      },
      "execution_count": 92,
      "outputs": [
        {
          "output_type": "execute_result",
          "data": {
            "text/plain": [
              "LinearRegressionModel()"
            ]
          },
          "metadata": {},
          "execution_count": 92
        }
      ]
    },
    {
      "cell_type": "code",
      "source": [
        "loadedModel_0.eval()\n",
        "with torch.inference_mode():\n",
        "  loadedModel_0_pred = loadedModel_0(test_X)\n",
        "\n",
        "loadedModel_0_pred == y_preds"
      ],
      "metadata": {
        "colab": {
          "base_uri": "https://localhost:8080/"
        },
        "id": "aSbY3Vcm-meQ",
        "outputId": "f96b4bdb-5e20-4532-bb36-4e57b584f04c"
      },
      "execution_count": 98,
      "outputs": [
        {
          "output_type": "execute_result",
          "data": {
            "text/plain": [
              "tensor([[False],\n",
              "        [False],\n",
              "        [False],\n",
              "        [False],\n",
              "        [False],\n",
              "        [False],\n",
              "        [False],\n",
              "        [False],\n",
              "        [False],\n",
              "        [False]])"
            ]
          },
          "metadata": {},
          "execution_count": 98
        }
      ]
    }
  ]
}