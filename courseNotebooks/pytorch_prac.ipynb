{
  "nbformat": 4,
  "nbformat_minor": 0,
  "metadata": {
    "colab": {
      "provenance": [],
      "collapsed_sections": [
        "xPjiosm3g2PN"
      ],
      "gpuType": "T4",
      "authorship_tag": "ABX9TyPPHk4a547R7+yj8rcjuRq1",
      "include_colab_link": true
    },
    "kernelspec": {
      "name": "python3",
      "display_name": "Python 3"
    },
    "language_info": {
      "name": "python"
    },
    "accelerator": "GPU"
  },
  "cells": [
    {
      "cell_type": "markdown",
      "metadata": {
        "id": "view-in-github",
        "colab_type": "text"
      },
      "source": [
        "<a href=\"https://colab.research.google.com/github/8zali9/DeepLearning-PyTorch/blob/main/courseNotebooks/pytorch_prac.ipynb\" target=\"_parent\"><img src=\"https://colab.research.google.com/assets/colab-badge.svg\" alt=\"Open In Colab\"/></a>"
      ]
    },
    {
      "cell_type": "code",
      "execution_count": 2,
      "metadata": {
        "colab": {
          "base_uri": "https://localhost:8080/"
        },
        "id": "UuTak59yO4oe",
        "outputId": "23bbbdea-aece-443c-e12d-2fee8d002df3"
      },
      "outputs": [
        {
          "output_type": "stream",
          "name": "stdout",
          "text": [
            "2.2.1+cu121\n"
          ]
        }
      ],
      "source": [
        "import torch\n",
        "print(torch.__version__)"
      ]
    },
    {
      "cell_type": "code",
      "source": [
        "scalar = torch.tensor(7)\n",
        "scalar.ndim\n",
        "scalar.item()\n",
        "scalar.shape"
      ],
      "metadata": {
        "colab": {
          "base_uri": "https://localhost:8080/"
        },
        "id": "1gz4fdKwPvOt",
        "outputId": "843e3ef6-7b2d-4452-f7ae-04a82840cf07"
      },
      "execution_count": 3,
      "outputs": [
        {
          "output_type": "execute_result",
          "data": {
            "text/plain": [
              "torch.Size([])"
            ]
          },
          "metadata": {},
          "execution_count": 3
        }
      ]
    },
    {
      "cell_type": "code",
      "source": [
        "vector = torch.tensor([1, 2])\n",
        "vector.ndim\n",
        "vector.shape"
      ],
      "metadata": {
        "colab": {
          "base_uri": "https://localhost:8080/"
        },
        "id": "MluYXyCMYGh0",
        "outputId": "1f669ec9-4f90-47df-c869-8aaab71736ca"
      },
      "execution_count": 4,
      "outputs": [
        {
          "output_type": "execute_result",
          "data": {
            "text/plain": [
              "torch.Size([2])"
            ]
          },
          "metadata": {},
          "execution_count": 4
        }
      ]
    },
    {
      "cell_type": "code",
      "source": [
        "MATRIX = torch.tensor([[1, 2], [3, 4], [4, 5]])\n",
        "MATRIX"
      ],
      "metadata": {
        "colab": {
          "base_uri": "https://localhost:8080/"
        },
        "id": "CNuSOK1KX1qt",
        "outputId": "07fb4b68-fee4-406d-83a7-be84f91e9d2b"
      },
      "execution_count": 5,
      "outputs": [
        {
          "output_type": "execute_result",
          "data": {
            "text/plain": [
              "tensor([[1, 2],\n",
              "        [3, 4],\n",
              "        [4, 5]])"
            ]
          },
          "metadata": {},
          "execution_count": 5
        }
      ]
    },
    {
      "cell_type": "code",
      "source": [
        "MATRIX.ndim\n",
        "MATRIX[1]\n",
        "MATRIX.shape"
      ],
      "metadata": {
        "colab": {
          "base_uri": "https://localhost:8080/"
        },
        "id": "ODw1uRjCYWSp",
        "outputId": "39145edb-4436-4cba-ac34-1edaf9cd7e18"
      },
      "execution_count": 6,
      "outputs": [
        {
          "output_type": "execute_result",
          "data": {
            "text/plain": [
              "torch.Size([3, 2])"
            ]
          },
          "metadata": {},
          "execution_count": 6
        }
      ]
    },
    {
      "cell_type": "code",
      "source": [
        "TENSOR = torch.tensor([ [1, 2, 3], [4, 5, 6], [7, 8, 9] ])\n",
        "TENSOR\n",
        "TENSOR[1, 1]\n",
        "TENSOR.ndim"
      ],
      "metadata": {
        "colab": {
          "base_uri": "https://localhost:8080/"
        },
        "id": "93FYb8-ta1Oh",
        "outputId": "deaaf8fe-a196-4b84-f593-8a3c3ecce33b"
      },
      "execution_count": 7,
      "outputs": [
        {
          "output_type": "execute_result",
          "data": {
            "text/plain": [
              "2"
            ]
          },
          "metadata": {},
          "execution_count": 7
        }
      ]
    },
    {
      "cell_type": "code",
      "source": [
        "randomTensor = torch.rand(1, 1, 2)\n",
        "randomTensor.ndim, randomTensor.shape"
      ],
      "metadata": {
        "colab": {
          "base_uri": "https://localhost:8080/"
        },
        "id": "H8MiaI0Pgy9T",
        "outputId": "e16a0ac1-bfbb-4674-fca8-d0c6d9ce46bb"
      },
      "execution_count": 8,
      "outputs": [
        {
          "output_type": "execute_result",
          "data": {
            "text/plain": [
              "(3, torch.Size([1, 1, 2]))"
            ]
          },
          "metadata": {},
          "execution_count": 8
        }
      ]
    },
    {
      "cell_type": "markdown",
      "source": [
        "# Tensors with all 0s or 1s"
      ],
      "metadata": {
        "id": "wk54DP81g35X"
      }
    },
    {
      "cell_type": "code",
      "source": [
        "zeros = torch.zeros(3, 4, 3)\n",
        "zeros.ndim"
      ],
      "metadata": {
        "colab": {
          "base_uri": "https://localhost:8080/"
        },
        "id": "BR2t-j24g3q4",
        "outputId": "814c81a9-fb7e-40ca-8981-f3497882c2bd"
      },
      "execution_count": 9,
      "outputs": [
        {
          "output_type": "execute_result",
          "data": {
            "text/plain": [
              "3"
            ]
          },
          "metadata": {},
          "execution_count": 9
        }
      ]
    },
    {
      "cell_type": "code",
      "source": [
        "ones = torch.ones(2, 3)\n",
        "ones"
      ],
      "metadata": {
        "colab": {
          "base_uri": "https://localhost:8080/"
        },
        "id": "JbnWnC3xg3cD",
        "outputId": "261817f8-ebb4-444e-ea5b-300ae20fc855"
      },
      "execution_count": 10,
      "outputs": [
        {
          "output_type": "execute_result",
          "data": {
            "text/plain": [
              "tensor([[1., 1., 1.],\n",
              "        [1., 1., 1.]])"
            ]
          },
          "metadata": {},
          "execution_count": 10
        }
      ]
    },
    {
      "cell_type": "code",
      "source": [
        "tensor_with_ranges = torch.arange(1, 11)\n",
        "tensor_with_ranges\n",
        "\n",
        "tensor_arange_anotherMethod = torch.arange(start=1, end=11, step=2)\n",
        "tensor_arange_anotherMethod"
      ],
      "metadata": {
        "colab": {
          "base_uri": "https://localhost:8080/"
        },
        "id": "28I6IFArg2U8",
        "outputId": "c656322d-42c8-49b9-f520-8d8da9f8a540"
      },
      "execution_count": 11,
      "outputs": [
        {
          "output_type": "execute_result",
          "data": {
            "text/plain": [
              "tensor([1, 3, 5, 7, 9])"
            ]
          },
          "metadata": {},
          "execution_count": 11
        }
      ]
    },
    {
      "cell_type": "code",
      "source": [
        "tensor_range_zeros = torch.zeros_like(input=tensor_with_ranges)\n",
        "tensor_range_zeros"
      ],
      "metadata": {
        "colab": {
          "base_uri": "https://localhost:8080/"
        },
        "id": "5X1sEY3Qg2Ro",
        "outputId": "8834a0f1-4fef-4684-80e1-795c3deecba1"
      },
      "execution_count": 12,
      "outputs": [
        {
          "output_type": "execute_result",
          "data": {
            "text/plain": [
              "tensor([0, 0, 0, 0, 0, 0, 0, 0, 0, 0])"
            ]
          },
          "metadata": {},
          "execution_count": 12
        }
      ]
    },
    {
      "cell_type": "markdown",
      "source": [
        "### Data Types"
      ],
      "metadata": {
        "id": "xPjiosm3g2PN"
      }
    },
    {
      "cell_type": "code",
      "source": [
        "tensor_32bit_int = torch.tensor([1, 2, 3], dtype=torch.int32)\n",
        "tensor_32bit_int"
      ],
      "metadata": {
        "id": "aKkUU_Cxg10P",
        "colab": {
          "base_uri": "https://localhost:8080/"
        },
        "outputId": "055be269-1323-499b-adf5-e27fb0c79de5"
      },
      "execution_count": 13,
      "outputs": [
        {
          "output_type": "execute_result",
          "data": {
            "text/plain": [
              "tensor([1, 2, 3], dtype=torch.int32)"
            ]
          },
          "metadata": {},
          "execution_count": 13
        }
      ]
    },
    {
      "cell_type": "code",
      "source": [
        "tensor_float_type = torch.tensor([0.1, 0.2, 0.3])\n",
        "tensor_float_type.dtype"
      ],
      "metadata": {
        "colab": {
          "base_uri": "https://localhost:8080/"
        },
        "id": "5oDRPIYqQ4nA",
        "outputId": "c775f2d3-64ff-42a0-aef5-722d9a4cc87c"
      },
      "execution_count": 14,
      "outputs": [
        {
          "output_type": "execute_result",
          "data": {
            "text/plain": [
              "torch.float32"
            ]
          },
          "metadata": {},
          "execution_count": 14
        }
      ]
    },
    {
      "cell_type": "markdown",
      "source": [
        "###**Issues that you can run into while dealing with tensors**"
      ],
      "metadata": {
        "id": "LdOx7tNjU0oQ"
      }
    },
    {
      "cell_type": "code",
      "source": [
        "print(tensor_float_type.dtype)\n",
        "print(tensor_float_type.shape)\n",
        "print(tensor_float_type.device)"
      ],
      "metadata": {
        "colab": {
          "base_uri": "https://localhost:8080/"
        },
        "id": "GSWLiC6-U-RS",
        "outputId": "ed96659d-48ff-42cd-a40b-1246ed7cf9a6"
      },
      "execution_count": 15,
      "outputs": [
        {
          "output_type": "stream",
          "name": "stdout",
          "text": [
            "torch.float32\n",
            "torch.Size([3])\n",
            "cpu\n"
          ]
        }
      ]
    },
    {
      "cell_type": "markdown",
      "source": [
        "### Tensor Operations"
      ],
      "metadata": {
        "id": "5uQ0jV0hW_WQ"
      }
    },
    {
      "cell_type": "code",
      "source": [
        "tempTensor = torch.tensor([1, 2, 3])"
      ],
      "metadata": {
        "id": "drBTdVkIYtad"
      },
      "execution_count": 16,
      "outputs": []
    },
    {
      "cell_type": "code",
      "source": [
        "# first normal way to add: (same for subtraction)\n",
        "tensorAdd1 = tempTensor + 10\n",
        "\n",
        "# second way using a function: (same for subtraction)\n",
        "tensorAdd2 = torch.add(tempTensor, 20)\n",
        "tensorAdd1, tensorAdd2"
      ],
      "metadata": {
        "colab": {
          "base_uri": "https://localhost:8080/"
        },
        "id": "J37YfZW3YVxG",
        "outputId": "c9518ba9-8547-4170-b322-83004dd28dad"
      },
      "execution_count": 17,
      "outputs": [
        {
          "output_type": "execute_result",
          "data": {
            "text/plain": [
              "(tensor([11, 12, 13]), tensor([21, 22, 23]))"
            ]
          },
          "metadata": {},
          "execution_count": 17
        }
      ]
    },
    {
      "cell_type": "code",
      "source": [
        "multiplicationTensor1 = tempTensor * 2\n",
        "multiplicationTensor2 = torch.mul(tempTensor, 3)\n",
        "multiplicationTensor1, multiplicationTensor2"
      ],
      "metadata": {
        "colab": {
          "base_uri": "https://localhost:8080/"
        },
        "id": "Vv8GHveOYlEj",
        "outputId": "f1759857-c226-4234-def2-627076efef5a"
      },
      "execution_count": 18,
      "outputs": [
        {
          "output_type": "execute_result",
          "data": {
            "text/plain": [
              "(tensor([2, 4, 6]), tensor([3, 6, 9]))"
            ]
          },
          "metadata": {},
          "execution_count": 18
        }
      ]
    },
    {
      "cell_type": "markdown",
      "source": [
        "### **MATRIX MULTIPLICATION**"
      ],
      "metadata": {
        "id": "IASyVV8GfNN2"
      }
    },
    {
      "cell_type": "markdown",
      "source": [
        "### Rules that are obvious:\n",
        "* since the matrices of the order (R1, C1) & (R2, C2);\n",
        "1. when multiplied, results in the matrix of order (R1, C2).\n",
        "2. But can only be multiplied iff C1 == R2."
      ],
      "metadata": {
        "id": "rrQAQv6SmQ1a"
      }
    },
    {
      "cell_type": "code",
      "source": [
        "t1 = torch.tensor([1, 2, 3])\n",
        "t2 = torch.tensor([4, 5, 6])\n",
        "torch.matmul(t1, t2) # this is the dot product of these two tensors i.e. vector dot product"
      ],
      "metadata": {
        "colab": {
          "base_uri": "https://localhost:8080/"
        },
        "id": "PbrFNvB1fT48",
        "outputId": "e5138ad7-8b5a-4b7b-8ff7-e4e10defef46"
      },
      "execution_count": 19,
      "outputs": [
        {
          "output_type": "execute_result",
          "data": {
            "text/plain": [
              "tensor(32)"
            ]
          },
          "metadata": {},
          "execution_count": 19
        }
      ]
    },
    {
      "cell_type": "code",
      "source": [
        "# t1 an t2 cannot be multiplied. But if we manipulate either one of them, we can then mutiply\n",
        "tensorFinal = torch.matmul(t1, t2.T)\n",
        "tensorFinal"
      ],
      "metadata": {
        "colab": {
          "base_uri": "https://localhost:8080/"
        },
        "id": "uavvxr7dgBaS",
        "outputId": "7d314ba8-7428-4109-e9b4-ebb1d6600bd2"
      },
      "execution_count": 20,
      "outputs": [
        {
          "output_type": "stream",
          "name": "stderr",
          "text": [
            "<ipython-input-20-ad433c162190>:2: UserWarning: The use of `x.T` on tensors of dimension other than 2 to reverse their shape is deprecated and it will throw an error in a future release. Consider `x.mT` to transpose batches of matrices or `x.permute(*torch.arange(x.ndim - 1, -1, -1))` to reverse the dimensions of a tensor. (Triggered internally at ../aten/src/ATen/native/TensorShape.cpp:3637.)\n",
            "  tensorFinal = torch.matmul(t1, t2.T)\n"
          ]
        },
        {
          "output_type": "execute_result",
          "data": {
            "text/plain": [
              "tensor(32)"
            ]
          },
          "metadata": {},
          "execution_count": 20
        }
      ]
    },
    {
      "cell_type": "markdown",
      "source": [
        "## Matrix mean, sum etc"
      ],
      "metadata": {
        "id": "9J1ofxs2svWq"
      }
    },
    {
      "cell_type": "code",
      "source": [
        "x = torch.arange(start = 1, end = 50, step = 5)\n",
        "x.dtype # currently it has a data type of int64 which is long. Mean function won't work for this datatype. We have to convert it into float32\n",
        "print(torch.mean(x.type(torch.float32)))\n",
        "# or another way to do that:\n",
        "print(x)\n",
        "print(x.type(torch.float32).mean())\n",
        "print(x.min())\n",
        "print(x.max())\n",
        "print(x.sum())\n",
        "\n",
        "# To find the position of the min / max val : use -> argmin / argmax -> returns the index of the min or max value\n",
        "print(x.argmin())\n",
        "print(x.argmax())"
      ],
      "metadata": {
        "colab": {
          "base_uri": "https://localhost:8080/"
        },
        "id": "V0Fyi2fUnOKF",
        "outputId": "5f66a086-5a7c-4471-80df-ef0b922e4992"
      },
      "execution_count": 21,
      "outputs": [
        {
          "output_type": "stream",
          "name": "stdout",
          "text": [
            "tensor(23.5000)\n",
            "tensor([ 1,  6, 11, 16, 21, 26, 31, 36, 41, 46])\n",
            "tensor(23.5000)\n",
            "tensor(1)\n",
            "tensor(46)\n",
            "tensor(235)\n",
            "tensor(0)\n",
            "tensor(9)\n"
          ]
        }
      ]
    },
    {
      "cell_type": "markdown",
      "source": [
        "# Reshaping a tensor\n"
      ],
      "metadata": {
        "id": "y7Xe4ITtzbYe"
      }
    },
    {
      "cell_type": "code",
      "source": [
        "x1 = x.reshape(1, 10)\n",
        "x2 = x.reshape(10, 1)\n",
        "x3 = x.reshape(5, 2)\n",
        "x4 = x.reshape(2, 5)\n",
        "print(x, \"\\n\")\n",
        "print(x1, \"\\n\")\n",
        "print(x2, \"\\n\")\n",
        "print(x3, \"\\n\")\n",
        "print(x4, \"\\n\")"
      ],
      "metadata": {
        "colab": {
          "base_uri": "https://localhost:8080/"
        },
        "id": "Ohtw0aNEznXd",
        "outputId": "c95467f1-a0c4-4dec-c6d8-f53276579e6f"
      },
      "execution_count": 22,
      "outputs": [
        {
          "output_type": "stream",
          "name": "stdout",
          "text": [
            "tensor([ 1,  6, 11, 16, 21, 26, 31, 36, 41, 46]) \n",
            "\n",
            "tensor([[ 1,  6, 11, 16, 21, 26, 31, 36, 41, 46]]) \n",
            "\n",
            "tensor([[ 1],\n",
            "        [ 6],\n",
            "        [11],\n",
            "        [16],\n",
            "        [21],\n",
            "        [26],\n",
            "        [31],\n",
            "        [36],\n",
            "        [41],\n",
            "        [46]]) \n",
            "\n",
            "tensor([[ 1,  6],\n",
            "        [11, 16],\n",
            "        [21, 26],\n",
            "        [31, 36],\n",
            "        [41, 46]]) \n",
            "\n",
            "tensor([[ 1,  6, 11, 16, 21],\n",
            "        [26, 31, 36, 41, 46]]) \n",
            "\n"
          ]
        }
      ]
    },
    {
      "cell_type": "code",
      "source": [
        "anotherView = x.view(10, 1)\n",
        "\n",
        "anotherView, x"
      ],
      "metadata": {
        "colab": {
          "base_uri": "https://localhost:8080/"
        },
        "id": "DsHb69Ax01J8",
        "outputId": "a6defc85-55c9-4e3d-dda0-38cc9ffbaa00"
      },
      "execution_count": 23,
      "outputs": [
        {
          "output_type": "execute_result",
          "data": {
            "text/plain": [
              "(tensor([[ 1],\n",
              "         [ 6],\n",
              "         [11],\n",
              "         [16],\n",
              "         [21],\n",
              "         [26],\n",
              "         [31],\n",
              "         [36],\n",
              "         [41],\n",
              "         [46]]),\n",
              " tensor([ 1,  6, 11, 16, 21, 26, 31, 36, 41, 46]))"
            ]
          },
          "metadata": {},
          "execution_count": 23
        }
      ]
    },
    {
      "cell_type": "markdown",
      "source": [
        "### STACKING TENSORS"
      ],
      "metadata": {
        "id": "B3autsxk5kkX"
      }
    },
    {
      "cell_type": "code",
      "source": [
        "v1 = torch.tensor([1, 2, 3])\n",
        "v2 = torch.tensor([4, 5, 6])\n",
        "verticallyStackedTensors = torch.vstack((v1, v2))\n",
        "horizontallyStackedTensors = torch.hstack((v1, v2))\n",
        "print(verticallyStackedTensors)\n",
        "print(horizontallyStackedTensors)"
      ],
      "metadata": {
        "id": "DLcW7h4f7rnk",
        "colab": {
          "base_uri": "https://localhost:8080/"
        },
        "outputId": "03fc303c-c3f4-4231-98d4-1bbfe0789b44"
      },
      "execution_count": 24,
      "outputs": [
        {
          "output_type": "stream",
          "name": "stdout",
          "text": [
            "tensor([[1, 2, 3],\n",
            "        [4, 5, 6]])\n",
            "tensor([1, 2, 3, 4, 5, 6])\n"
          ]
        }
      ]
    },
    {
      "cell_type": "markdown",
      "source": [
        "### SQUEEZING AND UNSQUEEZNG"
      ],
      "metadata": {
        "id": "6eILpnqG1ODN"
      }
    },
    {
      "cell_type": "code",
      "source": [
        "to_squeeze_tensor = torch.rand(1, 10)"
      ],
      "metadata": {
        "id": "0vydDX0K2nV8"
      },
      "execution_count": 25,
      "outputs": []
    },
    {
      "cell_type": "code",
      "source": [
        "to_squeeze_tensor\n",
        "\n",
        "squeezedTensor = to_squeeze_tensor.squeeze()\n",
        "squeezedTensor\n",
        "\n",
        "print(f\"Before squeezing: {to_squeeze_tensor}\\nAfter Squeezing: {squeezedTensor}\")"
      ],
      "metadata": {
        "colab": {
          "base_uri": "https://localhost:8080/"
        },
        "id": "uf8Y9j3G1Zq5",
        "outputId": "ec458dd6-cd42-400c-c36b-2b2fd48d03b9"
      },
      "execution_count": 26,
      "outputs": [
        {
          "output_type": "stream",
          "name": "stdout",
          "text": [
            "Before squeezing: tensor([[0.0537, 0.0584, 0.3358, 0.1695, 0.7810, 0.9945, 0.7271, 0.2469, 0.5676,\n",
            "         0.9473]])\n",
            "After Squeezing: tensor([0.0537, 0.0584, 0.3358, 0.1695, 0.7810, 0.9945, 0.7271, 0.2469, 0.5676,\n",
            "        0.9473])\n"
          ]
        }
      ]
    },
    {
      "cell_type": "code",
      "source": [
        "to_unsqueeze_tensor = squeezedTensor\n",
        "unsqueezedTensor0 = to_unsqueeze_tensor.unsqueeze(dim = 0)\n",
        "unsqueezedTensor1 = to_unsqueeze_tensor.unsqueeze(dim = 1)\n",
        "\n",
        "print(f\"Before unsqueezing: {to_unsqueeze_tensor}\\nAfter unsqueezing\\nwith dim = 0: {unsqueezedTensor0}\\nwith dim = 1: {unsqueezedTensor1}\")"
      ],
      "metadata": {
        "colab": {
          "base_uri": "https://localhost:8080/"
        },
        "id": "ILoqbfLn1cE_",
        "outputId": "f464206c-fa0f-4c56-8b72-5dc19cecbba3"
      },
      "execution_count": 27,
      "outputs": [
        {
          "output_type": "stream",
          "name": "stdout",
          "text": [
            "Before unsqueezing: tensor([0.0537, 0.0584, 0.3358, 0.1695, 0.7810, 0.9945, 0.7271, 0.2469, 0.5676,\n",
            "        0.9473])\n",
            "After unsqueezing\n",
            "with dim = 0: tensor([[0.0537, 0.0584, 0.3358, 0.1695, 0.7810, 0.9945, 0.7271, 0.2469, 0.5676,\n",
            "         0.9473]])\n",
            "with dim = 1: tensor([[0.0537],\n",
            "        [0.0584],\n",
            "        [0.3358],\n",
            "        [0.1695],\n",
            "        [0.7810],\n",
            "        [0.9945],\n",
            "        [0.7271],\n",
            "        [0.2469],\n",
            "        [0.5676],\n",
            "        [0.9473]])\n"
          ]
        }
      ]
    },
    {
      "cell_type": "markdown",
      "source": [
        "### PERMUTE : changing the order or arrangement of a tensor"
      ],
      "metadata": {
        "id": "US25gFhu5KY4"
      }
    },
    {
      "cell_type": "code",
      "source": [
        "toBePermutedTensor = torch.rand(size = (1, 2, 2))\n",
        "permutedTensor = toBePermutedTensor.permute(2, 1, 0)\n",
        "\n",
        "print(f\"Before permutting: \\n{toBePermutedTensor}\\n\\nAfter permutting: \\n{permutedTensor}\")"
      ],
      "metadata": {
        "colab": {
          "base_uri": "https://localhost:8080/"
        },
        "id": "3Cg7-tcP5YaY",
        "outputId": "a33755e3-6720-422f-b8bd-0e2a99324653"
      },
      "execution_count": 28,
      "outputs": [
        {
          "output_type": "stream",
          "name": "stdout",
          "text": [
            "Before permutting: \n",
            "tensor([[[0.0759, 0.1692],\n",
            "         [0.8427, 0.2724]]])\n",
            "\n",
            "After permutting: \n",
            "tensor([[[0.0759],\n",
            "         [0.8427]],\n",
            "\n",
            "        [[0.1692],\n",
            "         [0.2724]]])\n"
          ]
        }
      ]
    },
    {
      "cell_type": "markdown",
      "source": [
        "### Indexing"
      ],
      "metadata": {
        "id": "V67ShiynuxDb"
      }
    },
    {
      "cell_type": "code",
      "source": [
        "x = torch.arange(1, 11).reshape(5, 2)\n",
        "x"
      ],
      "metadata": {
        "colab": {
          "base_uri": "https://localhost:8080/"
        },
        "id": "GymxNM31u2Ka",
        "outputId": "b2852d55-f841-4f94-8648-cb9891ae6b37"
      },
      "execution_count": 29,
      "outputs": [
        {
          "output_type": "execute_result",
          "data": {
            "text/plain": [
              "tensor([[ 1,  2],\n",
              "        [ 3,  4],\n",
              "        [ 5,  6],\n",
              "        [ 7,  8],\n",
              "        [ 9, 10]])"
            ]
          },
          "metadata": {},
          "execution_count": 29
        }
      ]
    },
    {
      "cell_type": "code",
      "source": [
        "print(x[:])         # to access the whole dim\n",
        "print(x[:, 0])     # to access all elements from each row but from the 0th column\n",
        "print(x[:, 1])      # to access all elements from each row but from the 1st column\n",
        "print(x[0, 1])     # to access the element at 0th row, and the 1st column```\n",
        "\n",
        "print(x[:])         # to access the whole dim\n",
        "print(x[:, 0])     # to access all elements from each row but from the 0th column\n",
        "print(x[:, 1])      # to access all elements from each row but from the 1st column\n",
        "print(x[0, 1])     # to access the element at 0th row, and the 1st column"
      ],
      "metadata": {
        "colab": {
          "base_uri": "https://localhost:8080/"
        },
        "id": "JGNHWQeix4ei",
        "outputId": "34fd8e4d-2bb3-4777-c652-a00f0fcef36e"
      },
      "execution_count": 30,
      "outputs": [
        {
          "output_type": "stream",
          "name": "stdout",
          "text": [
            "tensor([[ 1,  2],\n",
            "        [ 3,  4],\n",
            "        [ 5,  6],\n",
            "        [ 7,  8],\n",
            "        [ 9, 10]])\n",
            "tensor([1, 3, 5, 7, 9])\n",
            "tensor([ 2,  4,  6,  8, 10])\n",
            "tensor(2)\n",
            "tensor([[ 1,  2],\n",
            "        [ 3,  4],\n",
            "        [ 5,  6],\n",
            "        [ 7,  8],\n",
            "        [ 9, 10]])\n",
            "tensor([1, 3, 5, 7, 9])\n",
            "tensor([ 2,  4,  6,  8, 10])\n",
            "tensor(2)\n"
          ]
        }
      ]
    },
    {
      "cell_type": "code",
      "source": [
        "x3d = torch.arange(start = 8, end = 48, step = 4).reshape(1, 2, 5)\n",
        "x3d[:, :] # to access all the elements\n",
        "x3d[:, :, 0] # to access from every outer dimension (which is one in our case), and from each row, but access the 0th column value."
      ],
      "metadata": {
        "colab": {
          "base_uri": "https://localhost:8080/"
        },
        "id": "ialZNkovyR4H",
        "outputId": "79dd7621-b621-43d0-c57e-f18aa777949e"
      },
      "execution_count": 31,
      "outputs": [
        {
          "output_type": "execute_result",
          "data": {
            "text/plain": [
              "tensor([[ 8, 28]])"
            ]
          },
          "metadata": {},
          "execution_count": 31
        }
      ]
    },
    {
      "cell_type": "code",
      "source": [
        "y = torch.arange(1, 10).reshape(1, 3, 3)\n",
        "print(y)\n",
        "y[:, 1, 1]\n",
        "y[:, 1:, 1]\n",
        "y[:, :, 2]"
      ],
      "metadata": {
        "colab": {
          "base_uri": "https://localhost:8080/"
        },
        "id": "MwihLgbeySZA",
        "outputId": "bb8bb393-a5e7-4445-87b5-bb99b88f5d27"
      },
      "execution_count": 32,
      "outputs": [
        {
          "output_type": "stream",
          "name": "stdout",
          "text": [
            "tensor([[[1, 2, 3],\n",
            "         [4, 5, 6],\n",
            "         [7, 8, 9]]])\n"
          ]
        },
        {
          "output_type": "execute_result",
          "data": {
            "text/plain": [
              "tensor([[3, 6, 9]])"
            ]
          },
          "metadata": {},
          "execution_count": 32
        }
      ]
    },
    {
      "cell_type": "markdown",
      "source": [
        "### numpy and pytorch"
      ],
      "metadata": {
        "id": "GtIqI6aFySfw"
      }
    },
    {
      "cell_type": "code",
      "source": [
        "import numpy as np\n",
        "import torch\n",
        "\n",
        "x = np.array([1, 2, 3, 4, 5])\n",
        "y = np.arange(1, 10)\n",
        "\n",
        "# to convert a numpy array to a torch tensor ->\n",
        "numpy2tensor = torch.from_numpy(x).type(torch.float32)\n",
        "numpy2tensor.dtype\n",
        "x.dtype"
      ],
      "metadata": {
        "colab": {
          "base_uri": "https://localhost:8080/"
        },
        "id": "_1ywkL8UGEfF",
        "outputId": "dc873abe-d0ff-42cf-9d85-6b487000cd6a"
      },
      "execution_count": 33,
      "outputs": [
        {
          "output_type": "execute_result",
          "data": {
            "text/plain": [
              "dtype('int64')"
            ]
          },
          "metadata": {},
          "execution_count": 33
        }
      ]
    },
    {
      "cell_type": "markdown",
      "source": [
        "## random_seed -> Reproducibility"
      ],
      "metadata": {
        "id": "m4pIP1xVKklU"
      }
    },
    {
      "cell_type": "code",
      "source": [
        "# random_seed -> in torch\n",
        "seed = 42\n",
        "torch.manual_seed(seed)\n",
        "randomTensorExtra1 = torch.rand(1, 11)\n",
        "torch.manual_seed(seed)\n",
        "randomTensorExtra = torch.rand(1, 11)\n",
        "print(randomTensorExtra, randomTensorExtra1)\n",
        "print(randomTensorExtra == randomTensorExtra1)"
      ],
      "metadata": {
        "colab": {
          "base_uri": "https://localhost:8080/"
        },
        "id": "z3HeopIqSgOo",
        "outputId": "cd7885b9-5094-4e50-8080-af8161bfbca6"
      },
      "execution_count": 34,
      "outputs": [
        {
          "output_type": "stream",
          "name": "stdout",
          "text": [
            "tensor([[0.8823, 0.9150, 0.3829, 0.9593, 0.3904, 0.6009, 0.2566, 0.7936, 0.9408,\n",
            "         0.1332, 0.9346]]) tensor([[0.8823, 0.9150, 0.3829, 0.9593, 0.3904, 0.6009, 0.2566, 0.7936, 0.9408,\n",
            "         0.1332, 0.9346]])\n",
            "tensor([[True, True, True, True, True, True, True, True, True, True, True]])\n"
          ]
        }
      ]
    },
    {
      "cell_type": "code",
      "source": [
        "# random_seed -> in numpy\n",
        "np.random.seed(seed)\n",
        "a = np.random.rand(1, 11)\n",
        "np.random.seed(seed)\n",
        "b = np.random.rand(1, 11)\n",
        "print(a == b)"
      ],
      "metadata": {
        "colab": {
          "base_uri": "https://localhost:8080/"
        },
        "id": "Af8Le18mVJ9R",
        "outputId": "53375900-833a-4762-c162-4480bb2831ad"
      },
      "execution_count": 35,
      "outputs": [
        {
          "output_type": "stream",
          "name": "stdout",
          "text": [
            "[[ True  True  True  True  True  True  True  True  True  True  True]]\n"
          ]
        }
      ]
    },
    {
      "cell_type": "markdown",
      "source": [
        "Cheking if the GPU is available then using it, else default to CPU."
      ],
      "metadata": {
        "id": "TjFNxoz_biiu"
      }
    },
    {
      "cell_type": "code",
      "source": [
        "!nvidia-smi"
      ],
      "metadata": {
        "colab": {
          "base_uri": "https://localhost:8080/"
        },
        "id": "04gY5rsJbr71",
        "outputId": "6fdf7067-b520-45e9-a61b-d507e8eb9214"
      },
      "execution_count": 36,
      "outputs": [
        {
          "output_type": "stream",
          "name": "stdout",
          "text": [
            "Tue Apr  2 21:19:01 2024       \n",
            "+---------------------------------------------------------------------------------------+\n",
            "| NVIDIA-SMI 535.104.05             Driver Version: 535.104.05   CUDA Version: 12.2     |\n",
            "|-----------------------------------------+----------------------+----------------------+\n",
            "| GPU  Name                 Persistence-M | Bus-Id        Disp.A | Volatile Uncorr. ECC |\n",
            "| Fan  Temp   Perf          Pwr:Usage/Cap |         Memory-Usage | GPU-Util  Compute M. |\n",
            "|                                         |                      |               MIG M. |\n",
            "|=========================================+======================+======================|\n",
            "|   0  Tesla T4                       Off | 00000000:00:04.0 Off |                    0 |\n",
            "| N/A   65C    P8              11W /  70W |      0MiB / 15360MiB |      0%      Default |\n",
            "|                                         |                      |                  N/A |\n",
            "+-----------------------------------------+----------------------+----------------------+\n",
            "                                                                                         \n",
            "+---------------------------------------------------------------------------------------+\n",
            "| Processes:                                                                            |\n",
            "|  GPU   GI   CI        PID   Type   Process name                            GPU Memory |\n",
            "|        ID   ID                                                             Usage      |\n",
            "|=======================================================================================|\n",
            "|  No running processes found                                                           |\n",
            "+---------------------------------------------------------------------------------------+\n"
          ]
        }
      ]
    },
    {
      "cell_type": "code",
      "source": [
        "torch.cuda.is_available()"
      ],
      "metadata": {
        "colab": {
          "base_uri": "https://localhost:8080/"
        },
        "id": "3rwbrXUYcfm_",
        "outputId": "922bbb68-c504-48e5-88b4-fd06ebbb2036"
      },
      "execution_count": 37,
      "outputs": [
        {
          "output_type": "execute_result",
          "data": {
            "text/plain": [
              "True"
            ]
          },
          "metadata": {},
          "execution_count": 37
        }
      ]
    },
    {
      "cell_type": "markdown",
      "source": [
        "setting up device agnostic code (simply put -> if GPU is available, running then on it, else CPU)"
      ],
      "metadata": {
        "id": "CyFMrT6tcp-J"
      }
    },
    {
      "cell_type": "code",
      "source": [
        "device = \"cuda\" if torch.cuda.is_available() else \"cpu\"\n",
        "device"
      ],
      "metadata": {
        "colab": {
          "base_uri": "https://localhost:8080/",
          "height": 36
        },
        "id": "JJDAty89c27H",
        "outputId": "4e4820c5-3520-41d6-e39a-3ef1f9b771ff"
      },
      "execution_count": 38,
      "outputs": [
        {
          "output_type": "execute_result",
          "data": {
            "text/plain": [
              "'cuda'"
            ],
            "application/vnd.google.colaboratory.intrinsic+json": {
              "type": "string"
            }
          },
          "metadata": {},
          "execution_count": 38
        }
      ]
    },
    {
      "cell_type": "code",
      "source": [
        "anyTensor = torch.tensor([1, 2])\n",
        "anyTensor.device # currently set to cpu\n",
        "\n",
        "# to execute tensors on a gpu ->\n",
        "anyTensor.to(device)"
      ],
      "metadata": {
        "colab": {
          "base_uri": "https://localhost:8080/"
        },
        "id": "dNax5xxaffJv",
        "outputId": "e8cbdd01-0523-44ee-cd7f-c4bf716fc9ba"
      },
      "execution_count": 39,
      "outputs": [
        {
          "output_type": "execute_result",
          "data": {
            "text/plain": [
              "tensor([1, 2], device='cuda:0')"
            ]
          },
          "metadata": {},
          "execution_count": 39
        }
      ]
    },
    {
      "cell_type": "code",
      "source": [
        "# numpy arrays do not support gpu, they can only be run on the cpu. to run numpy array, first change the device to the cpu\n",
        "anyTensor.cpu().numpy()\n",
        "anyTensor.device # cpu"
      ],
      "metadata": {
        "colab": {
          "base_uri": "https://localhost:8080/"
        },
        "id": "SIh4DLEgf6wZ",
        "outputId": "00b85d33-8d6e-48d8-c6a8-e34735459cbd"
      },
      "execution_count": 40,
      "outputs": [
        {
          "output_type": "execute_result",
          "data": {
            "text/plain": [
              "device(type='cpu')"
            ]
          },
          "metadata": {},
          "execution_count": 40
        }
      ]
    }
  ]
}