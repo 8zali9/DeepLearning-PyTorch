{
  "nbformat": 4,
  "nbformat_minor": 0,
  "metadata": {
    "colab": {
      "provenance": [],
      "collapsed_sections": [
        "xPjiosm3g2PN"
      ],
      "authorship_tag": "ABX9TyMwzrmfkmmDO1VnWtySfDP6",
      "include_colab_link": true
    },
    "kernelspec": {
      "name": "python3",
      "display_name": "Python 3"
    },
    "language_info": {
      "name": "python"
    }
  },
  "cells": [
    {
      "cell_type": "markdown",
      "metadata": {
        "id": "view-in-github",
        "colab_type": "text"
      },
      "source": [
        "<a href=\"https://colab.research.google.com/github/8zali9/DeepLearning-PyTorch/blob/main/pytorch_prac.ipynb\" target=\"_parent\"><img src=\"https://colab.research.google.com/assets/colab-badge.svg\" alt=\"Open In Colab\"/></a>"
      ]
    },
    {
      "cell_type": "code",
      "execution_count": 3,
      "metadata": {
        "colab": {
          "base_uri": "https://localhost:8080/"
        },
        "id": "UuTak59yO4oe",
        "outputId": "a8477369-331d-4ede-c8a2-5f8e5d25b7b5"
      },
      "outputs": [
        {
          "output_type": "stream",
          "name": "stdout",
          "text": [
            "2.2.1+cu121\n"
          ]
        }
      ],
      "source": [
        "import torch\n",
        "print(torch.__version__)"
      ]
    },
    {
      "cell_type": "code",
      "source": [
        "scalar = torch.tensor(7)\n",
        "scalar.ndim\n",
        "scalar.item()\n",
        "scalar.shape"
      ],
      "metadata": {
        "colab": {
          "base_uri": "https://localhost:8080/"
        },
        "id": "1gz4fdKwPvOt",
        "outputId": "7d24394d-b620-4045-8d58-e41872e68147"
      },
      "execution_count": 4,
      "outputs": [
        {
          "output_type": "execute_result",
          "data": {
            "text/plain": [
              "torch.Size([])"
            ]
          },
          "metadata": {},
          "execution_count": 4
        }
      ]
    },
    {
      "cell_type": "code",
      "source": [
        "vector = torch.tensor([1, 2])\n",
        "vector.ndim\n",
        "vector.shape"
      ],
      "metadata": {
        "colab": {
          "base_uri": "https://localhost:8080/"
        },
        "id": "MluYXyCMYGh0",
        "outputId": "79a97198-e7d5-42f2-cbcf-772ad1415d65"
      },
      "execution_count": 5,
      "outputs": [
        {
          "output_type": "execute_result",
          "data": {
            "text/plain": [
              "torch.Size([2])"
            ]
          },
          "metadata": {},
          "execution_count": 5
        }
      ]
    },
    {
      "cell_type": "code",
      "source": [
        "MATRIX = torch.tensor([[1, 2], [3, 4], [4, 5]])\n",
        "MATRIX"
      ],
      "metadata": {
        "colab": {
          "base_uri": "https://localhost:8080/"
        },
        "id": "CNuSOK1KX1qt",
        "outputId": "fabee5cb-1d1c-48d2-efe3-536b34ca47bd"
      },
      "execution_count": 6,
      "outputs": [
        {
          "output_type": "execute_result",
          "data": {
            "text/plain": [
              "tensor([[1, 2],\n",
              "        [3, 4],\n",
              "        [4, 5]])"
            ]
          },
          "metadata": {},
          "execution_count": 6
        }
      ]
    },
    {
      "cell_type": "code",
      "source": [
        "MATRIX.ndim\n",
        "MATRIX[1]\n",
        "MATRIX.shape"
      ],
      "metadata": {
        "colab": {
          "base_uri": "https://localhost:8080/"
        },
        "id": "ODw1uRjCYWSp",
        "outputId": "bf7086bd-a41a-4a94-d684-0c18b7d68cc4"
      },
      "execution_count": 7,
      "outputs": [
        {
          "output_type": "execute_result",
          "data": {
            "text/plain": [
              "torch.Size([3, 2])"
            ]
          },
          "metadata": {},
          "execution_count": 7
        }
      ]
    },
    {
      "cell_type": "code",
      "source": [
        "TENSOR = torch.tensor([ [1, 2, 3], [4, 5, 6], [7, 8, 9] ])\n",
        "TENSOR\n",
        "TENSOR[1, 1]\n",
        "TENSOR.ndim"
      ],
      "metadata": {
        "colab": {
          "base_uri": "https://localhost:8080/"
        },
        "id": "93FYb8-ta1Oh",
        "outputId": "9561d376-ff40-447d-b1d0-6e6f86f5b03c"
      },
      "execution_count": 8,
      "outputs": [
        {
          "output_type": "execute_result",
          "data": {
            "text/plain": [
              "2"
            ]
          },
          "metadata": {},
          "execution_count": 8
        }
      ]
    },
    {
      "cell_type": "code",
      "source": [
        "randomTensor = torch.rand(1, 1, 2)\n",
        "randomTensor.ndim, randomTensor.shape"
      ],
      "metadata": {
        "colab": {
          "base_uri": "https://localhost:8080/"
        },
        "id": "H8MiaI0Pgy9T",
        "outputId": "b8bf2252-924d-4c14-da34-31f6e6f2da6d"
      },
      "execution_count": 9,
      "outputs": [
        {
          "output_type": "execute_result",
          "data": {
            "text/plain": [
              "(3, torch.Size([1, 1, 2]))"
            ]
          },
          "metadata": {},
          "execution_count": 9
        }
      ]
    },
    {
      "cell_type": "markdown",
      "source": [
        "# Tensors with all 0s or 1s"
      ],
      "metadata": {
        "id": "wk54DP81g35X"
      }
    },
    {
      "cell_type": "code",
      "source": [
        "zeros = torch.zeros(3, 4, 3)\n",
        "zeros.ndim"
      ],
      "metadata": {
        "colab": {
          "base_uri": "https://localhost:8080/"
        },
        "id": "BR2t-j24g3q4",
        "outputId": "5958bfde-0223-4824-bfa4-c3504ce50327"
      },
      "execution_count": 10,
      "outputs": [
        {
          "output_type": "execute_result",
          "data": {
            "text/plain": [
              "3"
            ]
          },
          "metadata": {},
          "execution_count": 10
        }
      ]
    },
    {
      "cell_type": "code",
      "source": [
        "ones = torch.ones(2, 3)\n",
        "ones"
      ],
      "metadata": {
        "colab": {
          "base_uri": "https://localhost:8080/"
        },
        "id": "JbnWnC3xg3cD",
        "outputId": "4451920e-8954-4bb2-96cf-91f9e5950eca"
      },
      "execution_count": 11,
      "outputs": [
        {
          "output_type": "execute_result",
          "data": {
            "text/plain": [
              "tensor([[1., 1., 1.],\n",
              "        [1., 1., 1.]])"
            ]
          },
          "metadata": {},
          "execution_count": 11
        }
      ]
    },
    {
      "cell_type": "code",
      "source": [
        "tensor_with_ranges = torch.arange(1, 11)\n",
        "tensor_with_ranges\n",
        "\n",
        "tensor_arange_anotherMethod = torch.arange(start=1, end=11, step=2)\n",
        "tensor_arange_anotherMethod"
      ],
      "metadata": {
        "colab": {
          "base_uri": "https://localhost:8080/"
        },
        "id": "28I6IFArg2U8",
        "outputId": "baf4ec92-2211-45bd-90ee-9602d4234bcc"
      },
      "execution_count": 12,
      "outputs": [
        {
          "output_type": "execute_result",
          "data": {
            "text/plain": [
              "tensor([1, 3, 5, 7, 9])"
            ]
          },
          "metadata": {},
          "execution_count": 12
        }
      ]
    },
    {
      "cell_type": "code",
      "source": [
        "tensor_range_zeros = torch.zeros_like(input=tensor_with_ranges)\n",
        "tensor_range_zeros"
      ],
      "metadata": {
        "colab": {
          "base_uri": "https://localhost:8080/"
        },
        "id": "5X1sEY3Qg2Ro",
        "outputId": "adadbc58-2cf4-40ea-caa2-276f602a48ad"
      },
      "execution_count": 13,
      "outputs": [
        {
          "output_type": "execute_result",
          "data": {
            "text/plain": [
              "tensor([0, 0, 0, 0, 0, 0, 0, 0, 0, 0])"
            ]
          },
          "metadata": {},
          "execution_count": 13
        }
      ]
    },
    {
      "cell_type": "markdown",
      "source": [
        "### Data Types"
      ],
      "metadata": {
        "id": "xPjiosm3g2PN"
      }
    },
    {
      "cell_type": "code",
      "source": [
        "tensor_32bit_int = torch.tensor([1, 2, 3], dtype=torch.int32)\n",
        "tensor_32bit_int"
      ],
      "metadata": {
        "id": "aKkUU_Cxg10P",
        "colab": {
          "base_uri": "https://localhost:8080/"
        },
        "outputId": "3ee9eb12-f338-475a-d31d-b3aa7cde8a88"
      },
      "execution_count": 14,
      "outputs": [
        {
          "output_type": "execute_result",
          "data": {
            "text/plain": [
              "tensor([1, 2, 3], dtype=torch.int32)"
            ]
          },
          "metadata": {},
          "execution_count": 14
        }
      ]
    },
    {
      "cell_type": "code",
      "source": [
        "tensor_float_type = torch.tensor([0.1, 0.2, 0.3])\n",
        "tensor_float_type.dtype"
      ],
      "metadata": {
        "colab": {
          "base_uri": "https://localhost:8080/"
        },
        "id": "5oDRPIYqQ4nA",
        "outputId": "04299910-dece-4950-9d36-385bb0da82cf"
      },
      "execution_count": 15,
      "outputs": [
        {
          "output_type": "execute_result",
          "data": {
            "text/plain": [
              "torch.float32"
            ]
          },
          "metadata": {},
          "execution_count": 15
        }
      ]
    },
    {
      "cell_type": "markdown",
      "source": [
        "###**Issues that you can run into while dealing with tensors**"
      ],
      "metadata": {
        "id": "LdOx7tNjU0oQ"
      }
    },
    {
      "cell_type": "code",
      "source": [
        "print(tensor_float_type.dtype)\n",
        "print(tensor_float_type.shape)\n",
        "print(tensor_float_type.device)"
      ],
      "metadata": {
        "colab": {
          "base_uri": "https://localhost:8080/"
        },
        "id": "GSWLiC6-U-RS",
        "outputId": "ee4dbdc5-54a3-4663-e7d3-442b59184bae"
      },
      "execution_count": 16,
      "outputs": [
        {
          "output_type": "stream",
          "name": "stdout",
          "text": [
            "torch.float32\n",
            "torch.Size([3])\n",
            "cpu\n"
          ]
        }
      ]
    },
    {
      "cell_type": "markdown",
      "source": [
        "### Tensor Operations"
      ],
      "metadata": {
        "id": "5uQ0jV0hW_WQ"
      }
    },
    {
      "cell_type": "code",
      "source": [
        "tempTensor = torch.tensor([1, 2, 3])"
      ],
      "metadata": {
        "id": "drBTdVkIYtad"
      },
      "execution_count": 17,
      "outputs": []
    },
    {
      "cell_type": "code",
      "source": [
        "# first normal way to add: (same for subtraction)\n",
        "tensorAdd1 = tempTensor + 10\n",
        "\n",
        "# second way using a function: (same for subtraction)\n",
        "tensorAdd2 = torch.add(tempTensor, 20)\n",
        "tensorAdd1, tensorAdd2"
      ],
      "metadata": {
        "colab": {
          "base_uri": "https://localhost:8080/"
        },
        "id": "J37YfZW3YVxG",
        "outputId": "b1d404ee-9fe7-46f2-a9ab-1bacee7930e9"
      },
      "execution_count": 18,
      "outputs": [
        {
          "output_type": "execute_result",
          "data": {
            "text/plain": [
              "(tensor([11, 12, 13]), tensor([21, 22, 23]))"
            ]
          },
          "metadata": {},
          "execution_count": 18
        }
      ]
    },
    {
      "cell_type": "code",
      "source": [
        "multiplicationTensor1 = tempTensor * 2\n",
        "multiplicationTensor2 = torch.mul(tempTensor, 3)\n",
        "multiplicationTensor1, multiplicationTensor2"
      ],
      "metadata": {
        "colab": {
          "base_uri": "https://localhost:8080/"
        },
        "id": "Vv8GHveOYlEj",
        "outputId": "095f4643-1205-4d8f-94f3-a476d1ad3213"
      },
      "execution_count": 19,
      "outputs": [
        {
          "output_type": "execute_result",
          "data": {
            "text/plain": [
              "(tensor([2, 4, 6]), tensor([3, 6, 9]))"
            ]
          },
          "metadata": {},
          "execution_count": 19
        }
      ]
    },
    {
      "cell_type": "markdown",
      "source": [
        "### **MATRIX MULTIPLICATION**"
      ],
      "metadata": {
        "id": "IASyVV8GfNN2"
      }
    },
    {
      "cell_type": "markdown",
      "source": [
        "### Rules that are obvious:\n",
        "* since the matrices of the order (R1, C1) & (R2, C2);\n",
        "1. when multiplied, results in the matrix of order (R1, C2).\n",
        "2. But can only be multiplied iff C1 == R2."
      ],
      "metadata": {
        "id": "rrQAQv6SmQ1a"
      }
    },
    {
      "cell_type": "code",
      "source": [
        "t1 = torch.tensor([1, 2, 3])\n",
        "t2 = torch.tensor([4, 5, 6])\n",
        "torch.matmul(t1, t2) # this is the dot product of these two tensors i.e. vector dot product"
      ],
      "metadata": {
        "colab": {
          "base_uri": "https://localhost:8080/"
        },
        "id": "PbrFNvB1fT48",
        "outputId": "19b17a5c-8d03-4715-c587-45873935ba18"
      },
      "execution_count": 20,
      "outputs": [
        {
          "output_type": "execute_result",
          "data": {
            "text/plain": [
              "tensor(32)"
            ]
          },
          "metadata": {},
          "execution_count": 20
        }
      ]
    },
    {
      "cell_type": "code",
      "source": [
        "# t1 an t2 cannot be multiplied. But if we manipulate either one of them, we can then mutiply\n",
        "tensorFinal = torch.matmul(t1, t2.T)\n",
        "tensorFinal"
      ],
      "metadata": {
        "colab": {
          "base_uri": "https://localhost:8080/"
        },
        "id": "uavvxr7dgBaS",
        "outputId": "2c475377-011d-4b9e-f381-eaee858e06af"
      },
      "execution_count": 21,
      "outputs": [
        {
          "output_type": "stream",
          "name": "stderr",
          "text": [
            "<ipython-input-21-ad433c162190>:2: UserWarning: The use of `x.T` on tensors of dimension other than 2 to reverse their shape is deprecated and it will throw an error in a future release. Consider `x.mT` to transpose batches of matrices or `x.permute(*torch.arange(x.ndim - 1, -1, -1))` to reverse the dimensions of a tensor. (Triggered internally at ../aten/src/ATen/native/TensorShape.cpp:3637.)\n",
            "  tensorFinal = torch.matmul(t1, t2.T)\n"
          ]
        },
        {
          "output_type": "execute_result",
          "data": {
            "text/plain": [
              "tensor(32)"
            ]
          },
          "metadata": {},
          "execution_count": 21
        }
      ]
    },
    {
      "cell_type": "markdown",
      "source": [
        "## Matrix mean, sum etc"
      ],
      "metadata": {
        "id": "9J1ofxs2svWq"
      }
    },
    {
      "cell_type": "code",
      "source": [
        "x = torch.arange(start = 1, end = 50, step = 5)\n",
        "x.dtype # currently it has a data type of int64 which is long. Mean function won't work for this datatype. We have to convert it into float32\n",
        "print(torch.mean(x.type(torch.float32)))\n",
        "# or another way to do that:\n",
        "print(x)\n",
        "print(x.type(torch.float32).mean())\n",
        "print(x.min())\n",
        "print(x.max())\n",
        "print(x.sum())\n",
        "\n",
        "# To find the position of the min / max val : use -> argmin / argmax -> returns the index of the min or max value\n",
        "print(x.argmin())\n",
        "print(x.argmax())"
      ],
      "metadata": {
        "colab": {
          "base_uri": "https://localhost:8080/"
        },
        "id": "V0Fyi2fUnOKF",
        "outputId": "da274b0e-b150-4776-f959-0b2fd476ec04"
      },
      "execution_count": 22,
      "outputs": [
        {
          "output_type": "stream",
          "name": "stdout",
          "text": [
            "tensor(23.5000)\n",
            "tensor([ 1,  6, 11, 16, 21, 26, 31, 36, 41, 46])\n",
            "tensor(23.5000)\n",
            "tensor(1)\n",
            "tensor(46)\n",
            "tensor(235)\n",
            "tensor(0)\n",
            "tensor(9)\n"
          ]
        }
      ]
    },
    {
      "cell_type": "markdown",
      "source": [
        "# Reshaping a tensor\n"
      ],
      "metadata": {
        "id": "y7Xe4ITtzbYe"
      }
    },
    {
      "cell_type": "code",
      "source": [
        "x1 = x.reshape(1, 10)\n",
        "x2 = x.reshape(10, 1)\n",
        "x3 = x.reshape(5, 2)\n",
        "x4 = x.reshape(2, 5)\n",
        "print(x, \"\\n\")\n",
        "print(x1, \"\\n\")\n",
        "print(x2, \"\\n\")\n",
        "print(x3, \"\\n\")\n",
        "print(x4, \"\\n\")"
      ],
      "metadata": {
        "colab": {
          "base_uri": "https://localhost:8080/"
        },
        "id": "Ohtw0aNEznXd",
        "outputId": "23212c1c-b248-493f-a3b5-633b20e13354"
      },
      "execution_count": 23,
      "outputs": [
        {
          "output_type": "stream",
          "name": "stdout",
          "text": [
            "tensor([ 1,  6, 11, 16, 21, 26, 31, 36, 41, 46]) \n",
            "\n",
            "tensor([[ 1,  6, 11, 16, 21, 26, 31, 36, 41, 46]]) \n",
            "\n",
            "tensor([[ 1],\n",
            "        [ 6],\n",
            "        [11],\n",
            "        [16],\n",
            "        [21],\n",
            "        [26],\n",
            "        [31],\n",
            "        [36],\n",
            "        [41],\n",
            "        [46]]) \n",
            "\n",
            "tensor([[ 1,  6],\n",
            "        [11, 16],\n",
            "        [21, 26],\n",
            "        [31, 36],\n",
            "        [41, 46]]) \n",
            "\n",
            "tensor([[ 1,  6, 11, 16, 21],\n",
            "        [26, 31, 36, 41, 46]]) \n",
            "\n"
          ]
        }
      ]
    },
    {
      "cell_type": "code",
      "source": [
        "anotherView = x.view(10, 1)\n",
        "\n",
        "anotherView, x"
      ],
      "metadata": {
        "colab": {
          "base_uri": "https://localhost:8080/"
        },
        "id": "DsHb69Ax01J8",
        "outputId": "f8befb55-bc6c-442f-dd7f-a497ff8c9b24"
      },
      "execution_count": 24,
      "outputs": [
        {
          "output_type": "execute_result",
          "data": {
            "text/plain": [
              "(tensor([[ 1],\n",
              "         [ 6],\n",
              "         [11],\n",
              "         [16],\n",
              "         [21],\n",
              "         [26],\n",
              "         [31],\n",
              "         [36],\n",
              "         [41],\n",
              "         [46]]),\n",
              " tensor([ 1,  6, 11, 16, 21, 26, 31, 36, 41, 46]))"
            ]
          },
          "metadata": {},
          "execution_count": 24
        }
      ]
    },
    {
      "cell_type": "markdown",
      "source": [
        "### STACKING TENSORS"
      ],
      "metadata": {
        "id": "B3autsxk5kkX"
      }
    },
    {
      "cell_type": "code",
      "source": [
        "v1 = torch.tensor([1, 2, 3])\n",
        "v2 = torch.tensor([4, 5, 6])\n",
        "verticallyStackedTensors = torch.vstack((v1, v2))\n",
        "horizontallyStackedTensors = torch.hstack((v1, v2))\n",
        "print(verticallyStackedTensors)\n",
        "print(horizontallyStackedTensors)"
      ],
      "metadata": {
        "id": "DLcW7h4f7rnk",
        "colab": {
          "base_uri": "https://localhost:8080/"
        },
        "outputId": "3b9518a0-deb3-4d54-f8e2-b5de6fccd39f"
      },
      "execution_count": 25,
      "outputs": [
        {
          "output_type": "stream",
          "name": "stdout",
          "text": [
            "tensor([[1, 2, 3],\n",
            "        [4, 5, 6]])\n",
            "tensor([1, 2, 3, 4, 5, 6])\n"
          ]
        }
      ]
    },
    {
      "cell_type": "markdown",
      "source": [
        "### SQUEEZING AND UNSQUEEZNG"
      ],
      "metadata": {
        "id": "6eILpnqG1ODN"
      }
    },
    {
      "cell_type": "code",
      "source": [
        "to_squeeze_tensor = torch.rand(1, 10)"
      ],
      "metadata": {
        "id": "0vydDX0K2nV8"
      },
      "execution_count": 33,
      "outputs": []
    },
    {
      "cell_type": "code",
      "source": [
        "to_squeeze_tensor\n",
        "\n",
        "squeezedTensor = to_squeeze_tensor.squeeze()\n",
        "squeezedTensor\n",
        "\n",
        "print(f\"Before squeezing: {to_squeeze_tensor}\\nAfter Squeezing: {squeezedTensor}\")"
      ],
      "metadata": {
        "colab": {
          "base_uri": "https://localhost:8080/"
        },
        "id": "uf8Y9j3G1Zq5",
        "outputId": "17fc5980-4ba3-47f9-d70f-ac1807318c5d"
      },
      "execution_count": 34,
      "outputs": [
        {
          "output_type": "stream",
          "name": "stdout",
          "text": [
            "Before squeezing: tensor([[0.2106, 0.5942, 0.8224, 0.8444, 0.5206, 0.1093, 0.2005, 0.1773, 0.7163,\n",
            "         0.3850]])\n",
            "After Squeezing: tensor([0.2106, 0.5942, 0.8224, 0.8444, 0.5206, 0.1093, 0.2005, 0.1773, 0.7163,\n",
            "        0.3850])\n"
          ]
        }
      ]
    },
    {
      "cell_type": "code",
      "source": [
        "to_unsqueeze_tensor = squeezedTensor\n",
        "unsqueezedTensor0 = to_unsqueeze_tensor.unsqueeze(dim = 0)\n",
        "unsqueezedTensor1 = to_unsqueeze_tensor.unsqueeze(dim = 1)\n",
        "\n",
        "print(f\"Before unsqueezing: {to_unsqueeze_tensor}\\nAfter unsqueezing\\nwith dim = 0: {unsqueezedTensor0}\\nwith dim = 1: {unsqueezedTensor1}\")"
      ],
      "metadata": {
        "colab": {
          "base_uri": "https://localhost:8080/"
        },
        "id": "ILoqbfLn1cE_",
        "outputId": "3f7e9b8e-188c-4fe6-cfbd-a3688c8cd792"
      },
      "execution_count": 40,
      "outputs": [
        {
          "output_type": "stream",
          "name": "stdout",
          "text": [
            "Before unsqueezing: tensor([0.2106, 0.5942, 0.8224, 0.8444, 0.5206, 0.1093, 0.2005, 0.1773, 0.7163,\n",
            "        0.3850])\n",
            "After unsqueezing\n",
            "with dim = 0: tensor([[0.2106, 0.5942, 0.8224, 0.8444, 0.5206, 0.1093, 0.2005, 0.1773, 0.7163,\n",
            "         0.3850]])\n",
            "with dim = 1: tensor([[0.2106],\n",
            "        [0.5942],\n",
            "        [0.8224],\n",
            "        [0.8444],\n",
            "        [0.5206],\n",
            "        [0.1093],\n",
            "        [0.2005],\n",
            "        [0.1773],\n",
            "        [0.7163],\n",
            "        [0.3850]])\n"
          ]
        }
      ]
    },
    {
      "cell_type": "markdown",
      "source": [
        "### PERMUTE : changing the order or arrangement of a tensor"
      ],
      "metadata": {
        "id": "US25gFhu5KY4"
      }
    },
    {
      "cell_type": "code",
      "source": [
        "toBePermutedTensor = torch.rand(size = (1, 2, 2))\n",
        "permutedTensor = toBePermutedTensor.permute(2, 1, 0)\n",
        "\n",
        "print(f\"Before permutting: \\n{toBePermutedTensor}\\n\\nAfter permutting: \\n{permutedTensor}\")"
      ],
      "metadata": {
        "colab": {
          "base_uri": "https://localhost:8080/"
        },
        "id": "3Cg7-tcP5YaY",
        "outputId": "f185548a-5c83-4f7d-cddb-be5e71f6856b"
      },
      "execution_count": 50,
      "outputs": [
        {
          "output_type": "stream",
          "name": "stdout",
          "text": [
            "Before permutting: \n",
            "tensor([[[0.8408, 0.5304],\n",
            "         [0.6020, 0.7969]]])\n",
            "\n",
            "After permutting: \n",
            "tensor([[[0.8408],\n",
            "         [0.6020]],\n",
            "\n",
            "        [[0.5304],\n",
            "         [0.7969]]])\n"
          ]
        }
      ]
    }
  ]
}