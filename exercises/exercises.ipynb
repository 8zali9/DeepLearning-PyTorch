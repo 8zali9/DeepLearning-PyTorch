{
  "nbformat": 4,
  "nbformat_minor": 0,
  "metadata": {
    "colab": {
      "provenance": [],
      "gpuType": "T4",
      "toc_visible": true,
      "authorship_tag": "ABX9TyO90MtVBuwq/ApB4cVjt01H",
      "include_colab_link": true
    },
    "kernelspec": {
      "name": "python3",
      "display_name": "Python 3"
    },
    "language_info": {
      "name": "python"
    },
    "accelerator": "GPU"
  },
  "cells": [
    {
      "cell_type": "markdown",
      "metadata": {
        "id": "view-in-github",
        "colab_type": "text"
      },
      "source": [
        "<a href=\"https://colab.research.google.com/github/8zali9/DeepLearning-PyTorch/blob/main/exercises/exercises.ipynb\" target=\"_parent\"><img src=\"https://colab.research.google.com/assets/colab-badge.svg\" alt=\"Open In Colab\"/></a>"
      ]
    },
    {
      "cell_type": "markdown",
      "source": [
        "###  PyTorch Fundamentals"
      ],
      "metadata": {
        "id": "r87SURAUg29o"
      }
    },
    {
      "cell_type": "code",
      "source": [
        "import torch"
      ],
      "metadata": {
        "id": "AInJrxkRhcGW"
      },
      "execution_count": 2,
      "outputs": []
    },
    {
      "cell_type": "markdown",
      "source": [
        "\n",
        "\n",
        "2.   Create a random tensor with shape (7, 7).\n",
        "\n"
      ],
      "metadata": {
        "id": "fIdnqglVdsT9"
      }
    },
    {
      "cell_type": "code",
      "source": [
        "randomTensor = torch.rand(7, 7)\n",
        "print (randomTensor)"
      ],
      "metadata": {
        "colab": {
          "base_uri": "https://localhost:8080/"
        },
        "id": "45VB4KH1g0TE",
        "outputId": "e6702c5a-5fc6-4b11-bb44-bc9e224ecacc"
      },
      "execution_count": 3,
      "outputs": [
        {
          "output_type": "stream",
          "name": "stdout",
          "text": [
            "tensor([[0.4755, 0.2796, 0.0558, 0.3335, 0.8309, 0.7723, 0.0596],\n",
            "        [0.8384, 0.7217, 0.9888, 0.5751, 0.5403, 0.5355, 0.9205],\n",
            "        [0.4509, 0.1499, 0.8853, 0.4452, 0.5604, 0.8489, 0.7189],\n",
            "        [0.8603, 0.6298, 0.0617, 0.1151, 0.7534, 0.2266, 0.5148],\n",
            "        [0.8458, 0.0092, 0.0424, 0.4653, 0.5324, 0.6626, 0.9653],\n",
            "        [0.4607, 0.9795, 0.8975, 0.2032, 0.7602, 0.1262, 0.0287],\n",
            "        [0.5566, 0.2166, 0.0513, 0.3422, 0.7276, 0.9319, 0.8544]])\n"
          ]
        }
      ]
    },
    {
      "cell_type": "markdown",
      "source": [
        "3. Perform a matrix multiplication on the tensor from 2 with another random tensor with shape (1, 7) (hint: you may have to transpose the second tensor)."
      ],
      "metadata": {
        "id": "V74cD2bGhXbw"
      }
    },
    {
      "cell_type": "code",
      "source": [
        "x = torch.mul(randomTensor, 2)\n",
        "anotherRandomTensor = torch.rand(1, 7)\n",
        "print (f\"Since the tensor's inner dimensions do not match. i.e. x shape:\\n{x.shape}\\n\\nanotherRandomTensor:\\n{anotherRandomTensor.shape}\\n\\nTherefore, anotherRandomTensor is transposed.\")\n",
        "matrixMultiplication = torch.matmul(x, anotherRandomTensor.T)\n",
        "print(f\"Multiplication of x and transposed anotherRandomTensor results in:\\n{matrixMultiplication}\")"
      ],
      "metadata": {
        "colab": {
          "base_uri": "https://localhost:8080/"
        },
        "id": "EFUYSb48kPyP",
        "outputId": "3a3f6d16-2afb-4ed4-a910-0998fb8f00c5"
      },
      "execution_count": 4,
      "outputs": [
        {
          "output_type": "stream",
          "name": "stdout",
          "text": [
            "Since the tensor's inner dimensions do not match. i.e. x shape:\n",
            "torch.Size([7, 7])\n",
            "\n",
            "anotherRandomTensor:\n",
            "torch.Size([1, 7])\n",
            "\n",
            "Therefore, anotherRandomTensor is transposed.\n",
            "Multiplication of x and transposed anotherRandomTensor results in:\n",
            "tensor([[1.8570],\n",
            "        [4.0190],\n",
            "        [3.3462],\n",
            "        [2.2157],\n",
            "        [3.1441],\n",
            "        [1.9581],\n",
            "        [3.3528]])\n"
          ]
        }
      ]
    },
    {
      "cell_type": "markdown",
      "source": [
        "4. Set the random seed to 0 and do exercises 2 & 3 over again."
      ],
      "metadata": {
        "id": "wMH1OmnOkgjb"
      }
    },
    {
      "cell_type": "code",
      "source": [
        "# setting the variable seed\n",
        "seed = 0\n",
        "torch.manual_seed(seed)\n",
        "anyTensor = torch.rand(7, 7)\n",
        "torch.manual_seed(seed)\n",
        "anyTensor2 = torch.rand(7, 7)\n",
        "print(anyTensor == anyTensor2)"
      ],
      "metadata": {
        "id": "yNtN0IP4kgaA",
        "colab": {
          "base_uri": "https://localhost:8080/"
        },
        "outputId": "fb630ec2-11bf-41b8-9e61-0641f939aade"
      },
      "execution_count": 5,
      "outputs": [
        {
          "output_type": "stream",
          "name": "stdout",
          "text": [
            "tensor([[True, True, True, True, True, True, True],\n",
            "        [True, True, True, True, True, True, True],\n",
            "        [True, True, True, True, True, True, True],\n",
            "        [True, True, True, True, True, True, True],\n",
            "        [True, True, True, True, True, True, True],\n",
            "        [True, True, True, True, True, True, True],\n",
            "        [True, True, True, True, True, True, True]])\n"
          ]
        }
      ]
    },
    {
      "cell_type": "markdown",
      "source": [
        "5. Speaking of random seeds, we saw how to set it with torch.manual_seed() but is there a GPU equivalent? (hint: you'll need to look into the documentation for torch.cuda for this one). If there is, set the GPU random seed to 1234"
      ],
      "metadata": {
        "id": "rhfljlDOkgNu"
      }
    },
    {
      "cell_type": "code",
      "source": [
        "# device agnostic code ->\n",
        "device = \"cuda\" if torch.cuda.is_available() else \"cpu\"\n",
        "\n",
        "seedForGpu = 1234\n",
        "torch.cuda.manual_seed(seedForGpu)\n",
        "torch.rand(1, 11).device"
      ],
      "metadata": {
        "colab": {
          "base_uri": "https://localhost:8080/"
        },
        "id": "NR9GapQMpBpu",
        "outputId": "7c17b329-29c9-4135-9c45-eaccfc922326"
      },
      "execution_count": 6,
      "outputs": [
        {
          "output_type": "execute_result",
          "data": {
            "text/plain": [
              "device(type='cpu')"
            ]
          },
          "metadata": {},
          "execution_count": 6
        }
      ]
    },
    {
      "cell_type": "markdown",
      "source": [
        "6. Create two random tensors of shape (2, 3) and send them both to the GPU (you'll need access to a GPU for this). Set torch.manual_seed(1234) when creating the tensors (this doesn't have to be the GPU random seed)."
      ],
      "metadata": {
        "id": "m-EB4yg4tINo"
      }
    },
    {
      "cell_type": "code",
      "source": [
        "seedExtra  = 1234\n",
        "torch.manual_seed(seedExtra)\n",
        "r1 = torch.rand(2, 3).to(device)\n",
        "torch.manual_seed(seedExtra)\n",
        "r2 = torch.rand(2, 3).to(device)\n",
        "r1 == r2"
      ],
      "metadata": {
        "colab": {
          "base_uri": "https://localhost:8080/"
        },
        "id": "ZwlohDE3tilW",
        "outputId": "6e511d33-b23d-4b1e-8840-9145cc9b7466"
      },
      "execution_count": 12,
      "outputs": [
        {
          "output_type": "execute_result",
          "data": {
            "text/plain": [
              "tensor([[True, True, True],\n",
              "        [True, True, True]], device='cuda:0')"
            ]
          },
          "metadata": {},
          "execution_count": 12
        }
      ]
    },
    {
      "cell_type": "markdown",
      "source": [
        "7. Perform a matrix multiplication on the tensors you created in 6 (again, you may have to adjust the shapes of one of the tensors)."
      ],
      "metadata": {
        "id": "B6oC8RzTufzI"
      }
    },
    {
      "cell_type": "code",
      "source": [
        "tempR1intoR2 = matrixMultiplicationExtra = torch.matmul(r1, r2.T)\n",
        "tempR1intoR2"
      ],
      "metadata": {
        "colab": {
          "base_uri": "https://localhost:8080/"
        },
        "id": "Q4dJizuyujNX",
        "outputId": "3b4050fe-9932-4765-be4f-9cc534b5ed79"
      },
      "execution_count": 14,
      "outputs": [
        {
          "output_type": "execute_result",
          "data": {
            "text/plain": [
              "tensor([[0.2299, 0.2161],\n",
              "        [0.2161, 0.6287]], device='cuda:0')"
            ]
          },
          "metadata": {},
          "execution_count": 14
        }
      ]
    },
    {
      "cell_type": "markdown",
      "source": [
        "8. Find the maximum and minimum values of the output of 7."
      ],
      "metadata": {
        "id": "8d-lLuL-vm9Y"
      }
    },
    {
      "cell_type": "code",
      "source": [
        "tempR1intoR2.max()\n",
        "tempR1intoR2.min()"
      ],
      "metadata": {
        "colab": {
          "base_uri": "https://localhost:8080/"
        },
        "id": "1_7o9fFnvo11",
        "outputId": "d78bd202-8143-433a-d320-779207e0d289"
      },
      "execution_count": 16,
      "outputs": [
        {
          "output_type": "execute_result",
          "data": {
            "text/plain": [
              "tensor(0.2161, device='cuda:0')"
            ]
          },
          "metadata": {},
          "execution_count": 16
        }
      ]
    },
    {
      "cell_type": "markdown",
      "source": [
        "9. Find the maximum and minimum index values of the output of 7."
      ],
      "metadata": {
        "id": "uWjFU_XavzYE"
      }
    },
    {
      "cell_type": "code",
      "source": [
        "tempR1intoR2.min().argmax()\n",
        "tempR1intoR2.min().argmin()"
      ],
      "metadata": {
        "colab": {
          "base_uri": "https://localhost:8080/"
        },
        "id": "zsRskb8Qv09X",
        "outputId": "69828e54-345c-4136-9202-d6a33f1fcd92"
      },
      "execution_count": 20,
      "outputs": [
        {
          "output_type": "execute_result",
          "data": {
            "text/plain": [
              "tensor(0, device='cuda:0')"
            ]
          },
          "metadata": {},
          "execution_count": 20
        }
      ]
    },
    {
      "cell_type": "markdown",
      "source": [
        "10. Make a random tensor with shape (1, 1, 1, 10) and then create a new tensor with all the 1 dimensions removed to be left with a tensor of shape (10). Set the seed to 7 when you create it and print out the first tensor and it's shape as well as the second tensor and it's shape."
      ],
      "metadata": {
        "id": "vZHjiANBx4wO"
      }
    },
    {
      "cell_type": "code",
      "source": [
        "randomTensorLast = torch.rand(1, 1, 1, 10)\n",
        "newRandomTensor1 = torch.squeeze(randomTensor)\n",
        "# newRandomTensor1.shape"
      ],
      "metadata": {
        "colab": {
          "base_uri": "https://localhost:8080/"
        },
        "id": "BSlAiVGVx7mJ",
        "outputId": "8e72de72-70c7-4c31-861e-7b9fe3e4af0a"
      },
      "execution_count": 34,
      "outputs": [
        {
          "output_type": "execute_result",
          "data": {
            "text/plain": [
              "torch.Size([7, 7])"
            ]
          },
          "metadata": {},
          "execution_count": 34
        }
      ]
    },
    {
      "cell_type": "markdown",
      "source": [],
      "metadata": {
        "id": "4oiTqogqxv41"
      }
    },
    {
      "cell_type": "markdown",
      "source": [],
      "metadata": {
        "id": "rMb33Sqcxig_"
      }
    }
  ]
}